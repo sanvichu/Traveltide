{
 "cells": [
  {
   "cell_type": "markdown",
   "id": "600d4678-81f3-449f-8e0a-f1269d09900b",
   "metadata": {},
   "source": [
    "# TravelTide\n"
   ]
  },
  {
   "cell_type": "raw",
   "id": "16616d67-dce9-4738-be85-dbcba1432332",
   "metadata": {},
   "source": [
    "## Segmenting our Dataset\n"
   ]
  },
  {
   "cell_type": "code",
   "execution_count": 1,
   "id": "0bb02658-449b-444d-ae70-765220dc2e1b",
   "metadata": {},
   "outputs": [],
   "source": [
    "import pandas as pd\n",
    "import pandas as pd\n",
    "import sqlalchemy as sa\n",
    "\n",
    "# custom functions \n",
    "import Support.dbSupport as dbs\n"
   ]
  },
  {
   "cell_type": "markdown",
   "id": "8a37d21b-1968-469b-81a5-2fe016210184",
   "metadata": {},
   "source": [
    "## Db Connection setup"
   ]
  },
  {
   "cell_type": "code",
   "execution_count": null,
   "id": "354979ec-b40b-4777-8efa-d916b4431aff",
   "metadata": {},
   "outputs": [],
   "source": []
  },
  {
   "cell_type": "code",
   "execution_count": 3,
   "id": "ca34fbc8-e7e8-4144-86d8-def1c1138436",
   "metadata": {},
   "outputs": [
    {
     "data": {
      "text/plain": [
       "['users', 'hotels', 'flights', 'sessions']"
      ]
     },
     "execution_count": 3,
     "metadata": {},
     "output_type": "execute_result"
    }
   ],
   "source": [
    "dbs.check_tables()"
   ]
  },
  {
   "cell_type": "code",
   "execution_count": 4,
   "id": "e4af30f5-3ead-418d-b056-1575bb699c80",
   "metadata": {},
   "outputs": [
    {
     "name": "stdout",
     "output_type": "stream",
     "text": [
      "users: 1020926 records\n",
      "hotels: 1918617 records\n",
      "flights: 1901038 records\n",
      "sessions: 5408063 records\n"
     ]
    }
   ],
   "source": [
    "dbs.table_row_count()"
   ]
  },
  {
   "cell_type": "code",
   "execution_count": null,
   "id": "2f589189-155f-4be0-8290-b8e833c4036b",
   "metadata": {},
   "outputs": [],
   "source": []
  }
 ],
 "metadata": {
  "kernelspec": {
   "display_name": "Python 3 (ipykernel)",
   "language": "python",
   "name": "python3"
  },
  "language_info": {
   "codemirror_mode": {
    "name": "ipython",
    "version": 3
   },
   "file_extension": ".py",
   "mimetype": "text/x-python",
   "name": "python",
   "nbconvert_exporter": "python",
   "pygments_lexer": "ipython3",
   "version": "3.12.0"
  }
 },
 "nbformat": 4,
 "nbformat_minor": 5
}
