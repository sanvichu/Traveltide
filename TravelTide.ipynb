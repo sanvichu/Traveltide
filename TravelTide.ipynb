{
 "cells": [
  {
   "cell_type": "markdown",
   "id": "600d4678-81f3-449f-8e0a-f1269d09900b",
   "metadata": {},
   "source": [
    "# TravelTide\n"
   ]
  },
  {
   "cell_type": "markdown",
   "id": "7bc1b245-6b50-455c-af3d-ada4bb754efa",
   "metadata": {},
   "source": [
    "## Overview\n",
    "This report offers a deep dive into your customers' travel behaviors and preferences. By analyzing your extensive data, we aim to uncover what drives your travelers and how to keep them engaged. Our approach segments customers into distinct groups or \"traveler tribes,\" allowing for the customization of rewards and incentives that feel uniquely tailored to each group. This analysis distills vast data into clear, actionable metrics that shed light on travel patterns, service preferences, and responsiveness to promotions. The ultimate goal is to enhance customer loyalty and drive business success by keeping your travelers engaged with your services.\n",
    "\n",
    "## Approach and Data Analysis\n",
    "This section outlines how customer segmentation can be applied within TravelTide to create targeted rewards and incentives. By categorizing customers based on their behaviors and preferences, we can significantly improve customer satisfaction and loyalty.\n",
    "\n",
    "Our objective is to leverage segmentation to deliver personalized perks that boost loyalty, engagement, and overall satisfaction. We aim to offer at least five specific perks:\n",
    "\n",
    "## Reward Offerings:\n",
    "\n",
    "-  Exclusive Discounts\n",
    "- 1 Night Free Hotel with Flight\n",
    "- No Cancellation Fees\n",
    "- Free Hotel Meal\n",
    "- Free Checked Bag\n",
    "\n",
    "## Data Processing and Metrics Creation\n",
    "Starting with a dataset of 50,570 sessions, we distilled the information into 5,998 unique customers, using PostgreSQL to generate key metrics. This process was essential for simplifying the raw data into manageable and insightful variables.\n",
    "\n",
    "Note: The SQL script file is in SQL folder.\n",
    "\n",
    "## Key Metrics for Analysis\n",
    "To determine the most suitable perks for each customer, we focused on the following aggregated metrics:\n",
    "\n",
    "- Flight/Hotel/Both Preferences\n",
    "- Age\n",
    "- Age Group\n",
    "- Conversion Rate\n",
    "- Cancellation Rate\n",
    "- Total Sessions\n",
    "- Total Trips Booked\n",
    "- Engagement (Click Efficiency)\n",
    "- User Activity Level\n",
    "- Average Checked Bags\n",
    "- Discount Responsiveness\n",
    "- Proportions of Discounts (Flights/Hotels/Both)\n",
    "- Average Offers Received\n",
    "- Flight Hunter Index\n",
    "- Hotel Hunter Index\n",
    "\n",
    "Geo Distance is calculated in SQL.\n",
    "\n",
    "## Packages need to be installed\n",
    "- pip install scikit-learn\n",
    "- pip install ipywidgets\n",
    "- pip install -U kaleido\n",
    "\n"
   ]
  },
  {
   "cell_type": "code",
   "execution_count": 1,
   "id": "0bb02658-449b-444d-ae70-765220dc2e1b",
   "metadata": {},
   "outputs": [],
   "source": [
    "import pandas as pd\n",
    "import pandas as pd\n",
    "import os\n",
    "import numpy as np\n",
    "from sklearn.preprocessing import StandardScaler\n",
    "from sklearn.cluster import KMeans\n",
    "from sklearn.decomposition import PCA\n",
    "from datetime import datetime\n",
    "import plotly.graph_objects as go\n",
    "import plotly.express as px\n",
    "import plotly.io as pio\n",
    "# custom functions \n",
    "import Support.db_support as dbs\n",
    "import Support.cus_support as cus"
   ]
  },
  {
   "cell_type": "markdown",
   "id": "8a37d21b-1968-469b-81a5-2fe016210184",
   "metadata": {},
   "source": [
    "## Db Connection setup"
   ]
  },
  {
   "cell_type": "code",
   "execution_count": 2,
   "id": "354979ec-b40b-4777-8efa-d916b4431aff",
   "metadata": {},
   "outputs": [],
   "source": [
    "current_dir = os.getcwd()"
   ]
  },
  {
   "cell_type": "code",
   "execution_count": 3,
   "id": "ca34fbc8-e7e8-4144-86d8-def1c1138436",
   "metadata": {},
   "outputs": [
    {
     "data": {
      "text/plain": [
       "['hotels', 'users', 'flights', 'sessions']"
      ]
     },
     "execution_count": 3,
     "metadata": {},
     "output_type": "execute_result"
    }
   ],
   "source": [
    "dbs.check_tables()"
   ]
  },
  {
   "cell_type": "code",
   "execution_count": 4,
   "id": "e4af30f5-3ead-418d-b056-1575bb699c80",
   "metadata": {},
   "outputs": [
    {
     "name": "stdout",
     "output_type": "stream",
     "text": [
      "hotels: 1918617 records\n",
      "users: 1020926 records\n",
      "flights: 1901038 records\n",
      "sessions: 5408063 records\n"
     ]
    }
   ],
   "source": [
    "dbs.table_row_count()"
   ]
  },
  {
   "cell_type": "code",
   "execution_count": 19,
   "id": "8bd323b6-8f41-49ff-83fc-81ee14fabd2f",
   "metadata": {},
   "outputs": [],
   "source": [
    "\n",
    "#All_info_combined.sql\n",
    "sql_file_path = os.path.join(current_dir, 'SQL', 'All_info_combined.sql')\n",
    "img_dir_path = '../Images'\n"
   ]
  },
  {
   "cell_type": "code",
   "execution_count": 6,
   "id": "2f589189-155f-4be0-8290-b8e833c4036b",
   "metadata": {},
   "outputs": [],
   "source": [
    "CombainedData = dbs.execute_sql_file(sql_file_path)\n"
   ]
  },
  {
   "cell_type": "code",
   "execution_count": 7,
   "id": "4e1aa2e1-299a-4e9c-a2d7-6733300a064c",
   "metadata": {},
   "outputs": [
    {
     "data": {
      "text/html": [
       "<div>\n",
       "<style scoped>\n",
       "    .dataframe tbody tr th:only-of-type {\n",
       "        vertical-align: middle;\n",
       "    }\n",
       "\n",
       "    .dataframe tbody tr th {\n",
       "        vertical-align: top;\n",
       "    }\n",
       "\n",
       "    .dataframe thead th {\n",
       "        text-align: right;\n",
       "    }\n",
       "</style>\n",
       "<table border=\"1\" class=\"dataframe\">\n",
       "  <thead>\n",
       "    <tr style=\"text-align: right;\">\n",
       "      <th></th>\n",
       "      <th>user_id</th>\n",
       "      <th>birthdate</th>\n",
       "      <th>gender</th>\n",
       "      <th>married</th>\n",
       "      <th>has_children</th>\n",
       "      <th>home_country</th>\n",
       "      <th>home_city</th>\n",
       "      <th>age</th>\n",
       "      <th>age_group</th>\n",
       "      <th>latest_session</th>\n",
       "      <th>...</th>\n",
       "      <th>both_discount_proportion</th>\n",
       "      <th>discount_responsiveness</th>\n",
       "      <th>total_hotel_usd_spent</th>\n",
       "      <th>total_flight_usd_spent</th>\n",
       "      <th>total_usd_spent</th>\n",
       "      <th>total_nights</th>\n",
       "      <th>scaled_hotel_ads</th>\n",
       "      <th>ads_per_km</th>\n",
       "      <th>scaled_ads_per_km</th>\n",
       "      <th>hotel_hunter_index</th>\n",
       "    </tr>\n",
       "  </thead>\n",
       "  <tbody>\n",
       "    <tr>\n",
       "      <th>0</th>\n",
       "      <td>23557</td>\n",
       "      <td>1958-12-08</td>\n",
       "      <td>F</td>\n",
       "      <td>True</td>\n",
       "      <td>False</td>\n",
       "      <td>usa</td>\n",
       "      <td>new york</td>\n",
       "      <td>65.0</td>\n",
       "      <td>65+</td>\n",
       "      <td>2023-07-14</td>\n",
       "      <td>...</td>\n",
       "      <td>0.0</td>\n",
       "      <td>0.083333</td>\n",
       "      <td>365.75</td>\n",
       "      <td>638.0190</td>\n",
       "      <td>1003.7690</td>\n",
       "      <td>22.0</td>\n",
       "      <td>0.070289</td>\n",
       "      <td>0.000007</td>\n",
       "      <td>0.002772</td>\n",
       "      <td>0.002050</td>\n",
       "    </tr>\n",
       "    <tr>\n",
       "      <th>1</th>\n",
       "      <td>94883</td>\n",
       "      <td>1972-03-16</td>\n",
       "      <td>F</td>\n",
       "      <td>True</td>\n",
       "      <td>False</td>\n",
       "      <td>usa</td>\n",
       "      <td>kansas city</td>\n",
       "      <td>52.0</td>\n",
       "      <td>45-54</td>\n",
       "      <td>2023-05-28</td>\n",
       "      <td>...</td>\n",
       "      <td>0.0</td>\n",
       "      <td>0.027778</td>\n",
       "      <td>230.00</td>\n",
       "      <td>5354.8600</td>\n",
       "      <td>5584.8600</td>\n",
       "      <td>1.0</td>\n",
       "      <td>0.066255</td>\n",
       "      <td>0.000002</td>\n",
       "      <td>0.000703</td>\n",
       "      <td>0.000828</td>\n",
       "    </tr>\n",
       "    <tr>\n",
       "      <th>2</th>\n",
       "      <td>101486</td>\n",
       "      <td>1972-12-07</td>\n",
       "      <td>F</td>\n",
       "      <td>True</td>\n",
       "      <td>True</td>\n",
       "      <td>usa</td>\n",
       "      <td>tacoma</td>\n",
       "      <td>51.0</td>\n",
       "      <td>45-54</td>\n",
       "      <td>2023-07-18</td>\n",
       "      <td>...</td>\n",
       "      <td>0.0</td>\n",
       "      <td>0.000000</td>\n",
       "      <td>915.00</td>\n",
       "      <td>480.1285</td>\n",
       "      <td>1395.1285</td>\n",
       "      <td>38.0</td>\n",
       "      <td>0.132597</td>\n",
       "      <td>0.000011</td>\n",
       "      <td>0.004808</td>\n",
       "      <td>0.000000</td>\n",
       "    </tr>\n",
       "    <tr>\n",
       "      <th>3</th>\n",
       "      <td>101961</td>\n",
       "      <td>1980-09-14</td>\n",
       "      <td>F</td>\n",
       "      <td>True</td>\n",
       "      <td>False</td>\n",
       "      <td>usa</td>\n",
       "      <td>boston</td>\n",
       "      <td>43.0</td>\n",
       "      <td>35-44</td>\n",
       "      <td>2023-06-22</td>\n",
       "      <td>...</td>\n",
       "      <td>0.0</td>\n",
       "      <td>0.011905</td>\n",
       "      <td>1052.00</td>\n",
       "      <td>1884.4970</td>\n",
       "      <td>2936.4970</td>\n",
       "      <td>22.0</td>\n",
       "      <td>0.086834</td>\n",
       "      <td>0.000019</td>\n",
       "      <td>0.007858</td>\n",
       "      <td>0.000724</td>\n",
       "    </tr>\n",
       "    <tr>\n",
       "      <th>4</th>\n",
       "      <td>106907</td>\n",
       "      <td>1978-11-17</td>\n",
       "      <td>F</td>\n",
       "      <td>True</td>\n",
       "      <td>True</td>\n",
       "      <td>usa</td>\n",
       "      <td>miami</td>\n",
       "      <td>45.0</td>\n",
       "      <td>45-54</td>\n",
       "      <td>2023-07-27</td>\n",
       "      <td>...</td>\n",
       "      <td>0.0</td>\n",
       "      <td>0.017857</td>\n",
       "      <td>614.80</td>\n",
       "      <td>14067.5700</td>\n",
       "      <td>14682.3700</td>\n",
       "      <td>34.0</td>\n",
       "      <td>0.118706</td>\n",
       "      <td>0.000001</td>\n",
       "      <td>0.000589</td>\n",
       "      <td>0.001696</td>\n",
       "    </tr>\n",
       "  </tbody>\n",
       "</table>\n",
       "<p>5 rows × 36 columns</p>\n",
       "</div>"
      ],
      "text/plain": [
       "   user_id   birthdate gender  married  has_children home_country  \\\n",
       "0    23557  1958-12-08      F     True         False          usa   \n",
       "1    94883  1972-03-16      F     True         False          usa   \n",
       "2   101486  1972-12-07      F     True          True          usa   \n",
       "3   101961  1980-09-14      F     True         False          usa   \n",
       "4   106907  1978-11-17      F     True          True          usa   \n",
       "\n",
       "     home_city   age age_group latest_session  ...  both_discount_proportion  \\\n",
       "0     new york  65.0       65+     2023-07-14  ...                       0.0   \n",
       "1  kansas city  52.0     45-54     2023-05-28  ...                       0.0   \n",
       "2       tacoma  51.0     45-54     2023-07-18  ...                       0.0   \n",
       "3       boston  43.0     35-44     2023-06-22  ...                       0.0   \n",
       "4        miami  45.0     45-54     2023-07-27  ...                       0.0   \n",
       "\n",
       "   discount_responsiveness  total_hotel_usd_spent  total_flight_usd_spent  \\\n",
       "0                 0.083333                 365.75                638.0190   \n",
       "1                 0.027778                 230.00               5354.8600   \n",
       "2                 0.000000                 915.00                480.1285   \n",
       "3                 0.011905                1052.00               1884.4970   \n",
       "4                 0.017857                 614.80              14067.5700   \n",
       "\n",
       "   total_usd_spent  total_nights  scaled_hotel_ads  ads_per_km  \\\n",
       "0        1003.7690          22.0          0.070289    0.000007   \n",
       "1        5584.8600           1.0          0.066255    0.000002   \n",
       "2        1395.1285          38.0          0.132597    0.000011   \n",
       "3        2936.4970          22.0          0.086834    0.000019   \n",
       "4       14682.3700          34.0          0.118706    0.000001   \n",
       "\n",
       "   scaled_ads_per_km  hotel_hunter_index  \n",
       "0           0.002772            0.002050  \n",
       "1           0.000703            0.000828  \n",
       "2           0.004808            0.000000  \n",
       "3           0.007858            0.000724  \n",
       "4           0.000589            0.001696  \n",
       "\n",
       "[5 rows x 36 columns]"
      ]
     },
     "execution_count": 7,
     "metadata": {},
     "output_type": "execute_result"
    }
   ],
   "source": [
    "CombainedData.head()"
   ]
  },
  {
   "cell_type": "code",
   "execution_count": 8,
   "id": "0f196399-af45-43b1-b42b-21eab1fd759c",
   "metadata": {},
   "outputs": [
    {
     "name": "stdout",
     "output_type": "stream",
     "text": [
      "<class 'pandas.core.frame.DataFrame'>\n",
      "RangeIndex: 5998 entries, 0 to 5997\n",
      "Data columns (total 36 columns):\n",
      " #   Column                      Non-Null Count  Dtype  \n",
      "---  ------                      --------------  -----  \n",
      " 0   user_id                     5998 non-null   int64  \n",
      " 1   birthdate                   5998 non-null   object \n",
      " 2   gender                      5998 non-null   object \n",
      " 3   married                     5998 non-null   bool   \n",
      " 4   has_children                5998 non-null   bool   \n",
      " 5   home_country                5998 non-null   object \n",
      " 6   home_city                   5998 non-null   object \n",
      " 7   age                         5998 non-null   float64\n",
      " 8   age_group                   5998 non-null   object \n",
      " 9   latest_session              5998 non-null   object \n",
      " 10  total_trips                 5998 non-null   int64  \n",
      " 11  total_cancellations         5998 non-null   int64  \n",
      " 12  total_sessions              5998 non-null   int64  \n",
      " 13  total_cancellation_rate     5998 non-null   float64\n",
      " 14  average_checked_bags        5998 non-null   float64\n",
      " 15  prefers_flights             5998 non-null   float64\n",
      " 16  prefers_hotels              5998 non-null   float64\n",
      " 17  prefers_both                5998 non-null   float64\n",
      " 18  conversion_rate             5998 non-null   float64\n",
      " 19  average_clicks              5998 non-null   float64\n",
      " 20  total_clicks                5998 non-null   int64  \n",
      " 21  click_efficiency            5998 non-null   float64\n",
      " 22  average_hotel_discount      5998 non-null   float64\n",
      " 23  average_flight_discount     5998 non-null   float64\n",
      " 24  flight_discount_proportion  5998 non-null   float64\n",
      " 25  hotel_discount_proportion   5998 non-null   float64\n",
      " 26  both_discount_proportion    5998 non-null   float64\n",
      " 27  discount_responsiveness     5998 non-null   float64\n",
      " 28  total_hotel_usd_spent       5998 non-null   float64\n",
      " 29  total_flight_usd_spent      5998 non-null   float64\n",
      " 30  total_usd_spent             5998 non-null   float64\n",
      " 31  total_nights                5435 non-null   float64\n",
      " 32  scaled_hotel_ads            5998 non-null   float64\n",
      " 33  ads_per_km                  5998 non-null   float64\n",
      " 34  scaled_ads_per_km           5998 non-null   float64\n",
      " 35  hotel_hunter_index          5998 non-null   float64\n",
      "dtypes: bool(2), float64(23), int64(5), object(6)\n",
      "memory usage: 1.6+ MB\n"
     ]
    }
   ],
   "source": [
    "CombainedData.info()"
   ]
  },
  {
   "cell_type": "code",
   "execution_count": 9,
   "id": "a7dd6edb-dc32-4435-bd16-c7eda44f8e9d",
   "metadata": {},
   "outputs": [
    {
     "data": {
      "text/html": [
       "<div>\n",
       "<style scoped>\n",
       "    .dataframe tbody tr th:only-of-type {\n",
       "        vertical-align: middle;\n",
       "    }\n",
       "\n",
       "    .dataframe tbody tr th {\n",
       "        vertical-align: top;\n",
       "    }\n",
       "\n",
       "    .dataframe thead th {\n",
       "        text-align: right;\n",
       "    }\n",
       "</style>\n",
       "<table border=\"1\" class=\"dataframe\">\n",
       "  <thead>\n",
       "    <tr style=\"text-align: right;\">\n",
       "      <th></th>\n",
       "      <th>total_trips</th>\n",
       "      <th>total_cancellations</th>\n",
       "      <th>total_cancellation_rate</th>\n",
       "      <th>flight_discount_proportion</th>\n",
       "      <th>hotel_discount_proportion</th>\n",
       "      <th>both_discount_proportion</th>\n",
       "      <th>discount_responsiveness</th>\n",
       "    </tr>\n",
       "  </thead>\n",
       "  <tbody>\n",
       "    <tr>\n",
       "      <th>0</th>\n",
       "      <td>5</td>\n",
       "      <td>1</td>\n",
       "      <td>0.20</td>\n",
       "      <td>0.083333</td>\n",
       "      <td>0.166667</td>\n",
       "      <td>0.0</td>\n",
       "      <td>0.083333</td>\n",
       "    </tr>\n",
       "    <tr>\n",
       "      <th>1</th>\n",
       "      <td>3</td>\n",
       "      <td>0</td>\n",
       "      <td>0.00</td>\n",
       "      <td>0.083333</td>\n",
       "      <td>0.166667</td>\n",
       "      <td>0.0</td>\n",
       "      <td>0.027778</td>\n",
       "    </tr>\n",
       "    <tr>\n",
       "      <th>2</th>\n",
       "      <td>5</td>\n",
       "      <td>1</td>\n",
       "      <td>0.20</td>\n",
       "      <td>0.307692</td>\n",
       "      <td>0.000000</td>\n",
       "      <td>0.0</td>\n",
       "      <td>0.000000</td>\n",
       "    </tr>\n",
       "    <tr>\n",
       "      <th>3</th>\n",
       "      <td>7</td>\n",
       "      <td>0</td>\n",
       "      <td>0.00</td>\n",
       "      <td>0.250000</td>\n",
       "      <td>0.083333</td>\n",
       "      <td>0.0</td>\n",
       "      <td>0.011905</td>\n",
       "    </tr>\n",
       "    <tr>\n",
       "      <th>4</th>\n",
       "      <td>4</td>\n",
       "      <td>1</td>\n",
       "      <td>0.25</td>\n",
       "      <td>0.071429</td>\n",
       "      <td>0.071429</td>\n",
       "      <td>0.0</td>\n",
       "      <td>0.017857</td>\n",
       "    </tr>\n",
       "    <tr>\n",
       "      <th>...</th>\n",
       "      <td>...</td>\n",
       "      <td>...</td>\n",
       "      <td>...</td>\n",
       "      <td>...</td>\n",
       "      <td>...</td>\n",
       "      <td>...</td>\n",
       "      <td>...</td>\n",
       "    </tr>\n",
       "    <tr>\n",
       "      <th>5993</th>\n",
       "      <td>4</td>\n",
       "      <td>0</td>\n",
       "      <td>0.00</td>\n",
       "      <td>0.125000</td>\n",
       "      <td>0.000000</td>\n",
       "      <td>0.0</td>\n",
       "      <td>0.093750</td>\n",
       "    </tr>\n",
       "    <tr>\n",
       "      <th>5994</th>\n",
       "      <td>4</td>\n",
       "      <td>1</td>\n",
       "      <td>0.25</td>\n",
       "      <td>0.125000</td>\n",
       "      <td>0.000000</td>\n",
       "      <td>0.0</td>\n",
       "      <td>0.031250</td>\n",
       "    </tr>\n",
       "    <tr>\n",
       "      <th>5995</th>\n",
       "      <td>3</td>\n",
       "      <td>0</td>\n",
       "      <td>0.00</td>\n",
       "      <td>0.375000</td>\n",
       "      <td>0.000000</td>\n",
       "      <td>0.0</td>\n",
       "      <td>0.000000</td>\n",
       "    </tr>\n",
       "    <tr>\n",
       "      <th>5996</th>\n",
       "      <td>1</td>\n",
       "      <td>0</td>\n",
       "      <td>0.00</td>\n",
       "      <td>0.250000</td>\n",
       "      <td>0.125000</td>\n",
       "      <td>0.0</td>\n",
       "      <td>0.000000</td>\n",
       "    </tr>\n",
       "    <tr>\n",
       "      <th>5997</th>\n",
       "      <td>0</td>\n",
       "      <td>0</td>\n",
       "      <td>0.00</td>\n",
       "      <td>0.125000</td>\n",
       "      <td>0.125000</td>\n",
       "      <td>0.0</td>\n",
       "      <td>0.000000</td>\n",
       "    </tr>\n",
       "  </tbody>\n",
       "</table>\n",
       "<p>5998 rows × 7 columns</p>\n",
       "</div>"
      ],
      "text/plain": [
       "      total_trips  total_cancellations  total_cancellation_rate  \\\n",
       "0               5                    1                     0.20   \n",
       "1               3                    0                     0.00   \n",
       "2               5                    1                     0.20   \n",
       "3               7                    0                     0.00   \n",
       "4               4                    1                     0.25   \n",
       "...           ...                  ...                      ...   \n",
       "5993            4                    0                     0.00   \n",
       "5994            4                    1                     0.25   \n",
       "5995            3                    0                     0.00   \n",
       "5996            1                    0                     0.00   \n",
       "5997            0                    0                     0.00   \n",
       "\n",
       "      flight_discount_proportion  hotel_discount_proportion  \\\n",
       "0                       0.083333                   0.166667   \n",
       "1                       0.083333                   0.166667   \n",
       "2                       0.307692                   0.000000   \n",
       "3                       0.250000                   0.083333   \n",
       "4                       0.071429                   0.071429   \n",
       "...                          ...                        ...   \n",
       "5993                    0.125000                   0.000000   \n",
       "5994                    0.125000                   0.000000   \n",
       "5995                    0.375000                   0.000000   \n",
       "5996                    0.250000                   0.125000   \n",
       "5997                    0.125000                   0.125000   \n",
       "\n",
       "      both_discount_proportion  discount_responsiveness  \n",
       "0                          0.0                 0.083333  \n",
       "1                          0.0                 0.027778  \n",
       "2                          0.0                 0.000000  \n",
       "3                          0.0                 0.011905  \n",
       "4                          0.0                 0.017857  \n",
       "...                        ...                      ...  \n",
       "5993                       0.0                 0.093750  \n",
       "5994                       0.0                 0.031250  \n",
       "5995                       0.0                 0.000000  \n",
       "5996                       0.0                 0.000000  \n",
       "5997                       0.0                 0.000000  \n",
       "\n",
       "[5998 rows x 7 columns]"
      ]
     },
     "execution_count": 9,
     "metadata": {},
     "output_type": "execute_result"
    }
   ],
   "source": [
    "CombainedData[['total_trips','total_cancellations','total_cancellation_rate','flight_discount_proportion','hotel_discount_proportion','both_discount_proportion','discount_responsiveness']]"
   ]
  },
  {
   "cell_type": "code",
   "execution_count": 10,
   "id": "a1c2f837-e7bd-44a7-82ec-5d569cab2b73",
   "metadata": {},
   "outputs": [],
   "source": [
    "CombainedData['flight_hunter_index'] = CombainedData['scaled_ads_per_km'] * CombainedData['flight_discount_proportion'] * CombainedData['average_flight_discount']\n"
   ]
  },
  {
   "cell_type": "markdown",
   "id": "94a2ec17-1269-4136-9a3c-16f12069ce8e",
   "metadata": {},
   "source": [
    "## User Demographics and Characteristics"
   ]
  },
  {
   "cell_type": "markdown",
   "id": "2bdd04df-daa6-4966-b6bf-6033353e2d38",
   "metadata": {},
   "source": [
    "### 1. Age Distribution\n",
    "KPIs:\n",
    "\n",
    "- Average Age: The mean age of all users.\n",
    "- Median Age: The middle value when the ages are sorted.\n",
    "- Age Group Distribution: The percentage of users in different age groups (e.g., 18-25, 26-35, etc.).\n"
   ]
  },
  {
   "cell_type": "code",
   "execution_count": 11,
   "id": "b0d2bba1-3da1-46b6-8d23-fc5753fbbcb3",
   "metadata": {},
   "outputs": [
    {
     "name": "stdout",
     "output_type": "stream",
     "text": [
      "Average Age: 41.963321107035675\n",
      "Median Age: 42.0\n",
      "Age Group Distribution:\n",
      "age_group\n",
      "35-44    33.744582\n",
      "45-54    29.459820\n",
      "25-34    14.888296\n",
      "55-64     8.252751\n",
      "18-24     8.036012\n",
      "65+       4.318106\n",
      "<18       1.300433\n",
      "Name: proportion, dtype: float64\n"
     ]
    }
   ],
   "source": [
    "# Calculate average and median age\n",
    "average_age = CombainedData['age'].mean()\n",
    "median_age = CombainedData['age'].median()\n",
    "\n",
    "# Calculate age group distribution\n",
    "age_group_distribution = CombainedData['age_group'].value_counts(normalize=True) * 100\n",
    "\n",
    "# Display the results\n",
    "print(f\"Average Age: {average_age}\")\n",
    "print(f\"Median Age: {median_age}\")\n",
    "print(f\"Age Group Distribution:\\n{age_group_distribution}\")"
   ]
  },
  {
   "cell_type": "markdown",
   "id": "509e1226-2ccc-4721-ae03-a8873009b510",
   "metadata": {},
   "source": [
    "### 2. Gender Distribution\n",
    "KPIs:\n",
    "\n",
    "- Gender Ratio: The percentage of male, female, and other gender categories."
   ]
  },
  {
   "cell_type": "code",
   "execution_count": 12,
   "id": "c013c338-fa0d-4d45-8b0a-0b15a85c6429",
   "metadata": {},
   "outputs": [
    {
     "name": "stdout",
     "output_type": "stream",
     "text": [
      "Gender Distribution:\n",
      "gender\n",
      "F    88.229410\n",
      "M    11.587196\n",
      "O     0.183394\n",
      "Name: proportion, dtype: float64\n"
     ]
    }
   ],
   "source": [
    "# Calculate gender distribution\n",
    "gender_distribution = CombainedData['gender'].value_counts(normalize=True) * 100\n",
    "\n",
    "# Display the results\n",
    "print(f\"Gender Distribution:\\n{gender_distribution}\")\n"
   ]
  },
  {
   "cell_type": "markdown",
   "id": "1d83ff8e-e038-4fb3-b370-43e6b96a171c",
   "metadata": {},
   "source": [
    "### 3. Marital Status\n",
    "KPIs:\n",
    "\n",
    "- Percentage Married: The percentage of users who are married.\n"
   ]
  },
  {
   "cell_type": "code",
   "execution_count": 13,
   "id": "5f071ced-6e74-4249-8bcd-51f54f4e7494",
   "metadata": {},
   "outputs": [
    {
     "name": "stdout",
     "output_type": "stream",
     "text": [
      "Marital Status Distribution:\n",
      "married\n",
      "False    55.951984\n",
      "True     44.048016\n",
      "Name: proportion, dtype: float64\n"
     ]
    }
   ],
   "source": [
    "# Calculate marital status distribution\n",
    "marital_status_distribution = CombainedData['married'].value_counts(normalize=True) * 100\n",
    "\n",
    "# Display the results\n",
    "print(f\"Marital Status Distribution:\\n{marital_status_distribution}\")"
   ]
  },
  {
   "cell_type": "markdown",
   "id": "fd001f05-86f3-4564-9e7e-9b67cd9969db",
   "metadata": {},
   "source": [
    "### 4. Parental Status\n",
    "KPIs:\n",
    "\n",
    "- Percentage with Children: The percentage of users who have children."
   ]
  },
  {
   "cell_type": "code",
   "execution_count": 14,
   "id": "8ed9758e-9ca2-4270-a161-6cbd6be8e269",
   "metadata": {},
   "outputs": [
    {
     "name": "stdout",
     "output_type": "stream",
     "text": [
      "Parental Status Distribution:\n",
      "has_children\n",
      "False    67.355785\n",
      "True     32.644215\n",
      "Name: proportion, dtype: float64\n"
     ]
    }
   ],
   "source": [
    "# Calculate parental status distribution\n",
    "parental_status_distribution = CombainedData['has_children'].value_counts(normalize=True) * 100\n",
    "\n",
    "# Display the results\n",
    "print(f\"Parental Status Distribution:\\n{parental_status_distribution}\")\n"
   ]
  },
  {
   "cell_type": "markdown",
   "id": "d249c907-c7f6-4f1e-9fbd-18252f71b778",
   "metadata": {},
   "source": [
    "### 5. Geographical Distribution (Home Country and City)\n",
    "KPIs:\n",
    "\n",
    "- Top Home Countries: The most common countries of origin among users.\n",
    "- Top Home Cities: The most common cities of origin among users."
   ]
  },
  {
   "cell_type": "code",
   "execution_count": 15,
   "id": "a8b0652b-c317-45f1-b8e5-cd9c49b90760",
   "metadata": {},
   "outputs": [
    {
     "name": "stdout",
     "output_type": "stream",
     "text": [
      "Top Home Countries:\n",
      "home_country\n",
      "usa       4991\n",
      "canada    1007\n",
      "Name: count, dtype: int64\n",
      "Top Home Cities:\n",
      "home_city\n",
      "new york       680\n",
      "los angeles    325\n",
      "toronto        225\n",
      "chicago        195\n",
      "houston        185\n",
      "montreal       166\n",
      "san antonio    132\n",
      "phoenix        119\n",
      "dallas         117\n",
      "san diego      113\n",
      "Name: count, dtype: int64\n"
     ]
    }
   ],
   "source": [
    "# Calculate top home countries\n",
    "top_home_countries = CombainedData['home_country'].value_counts().head(10)\n",
    "\n",
    "# Calculate top home cities\n",
    "top_home_cities = CombainedData['home_city'].value_counts().head(10)\n",
    "\n",
    "# Display the results\n",
    "print(f\"Top Home Countries:\\n{top_home_countries}\")\n",
    "print(f\"Top Home Cities:\\n{top_home_cities}\")\n"
   ]
  },
  {
   "cell_type": "code",
   "execution_count": 16,
   "id": "2052c123-7a6e-4f69-9a68-aad53233b9a1",
   "metadata": {},
   "outputs": [
    {
     "data": {
      "text/html": [
       "<div>\n",
       "<style scoped>\n",
       "    .dataframe tbody tr th:only-of-type {\n",
       "        vertical-align: middle;\n",
       "    }\n",
       "\n",
       "    .dataframe tbody tr th {\n",
       "        vertical-align: top;\n",
       "    }\n",
       "\n",
       "    .dataframe thead th {\n",
       "        text-align: right;\n",
       "    }\n",
       "</style>\n",
       "<table border=\"1\" class=\"dataframe\">\n",
       "  <thead>\n",
       "    <tr style=\"text-align: right;\">\n",
       "      <th></th>\n",
       "      <th>user_id</th>\n",
       "      <th>birthdate</th>\n",
       "      <th>gender</th>\n",
       "      <th>married</th>\n",
       "      <th>has_children</th>\n",
       "      <th>home_country</th>\n",
       "      <th>home_city</th>\n",
       "      <th>age</th>\n",
       "      <th>age_group</th>\n",
       "      <th>latest_session</th>\n",
       "      <th>...</th>\n",
       "      <th>discount_responsiveness</th>\n",
       "      <th>total_hotel_usd_spent</th>\n",
       "      <th>total_flight_usd_spent</th>\n",
       "      <th>total_usd_spent</th>\n",
       "      <th>total_nights</th>\n",
       "      <th>scaled_hotel_ads</th>\n",
       "      <th>ads_per_km</th>\n",
       "      <th>scaled_ads_per_km</th>\n",
       "      <th>hotel_hunter_index</th>\n",
       "      <th>flight_hunter_index</th>\n",
       "    </tr>\n",
       "  </thead>\n",
       "  <tbody>\n",
       "    <tr>\n",
       "      <th>count</th>\n",
       "      <td>5998.000000</td>\n",
       "      <td>5998</td>\n",
       "      <td>5998</td>\n",
       "      <td>5998</td>\n",
       "      <td>5998</td>\n",
       "      <td>5998</td>\n",
       "      <td>5998</td>\n",
       "      <td>5998.000000</td>\n",
       "      <td>5998</td>\n",
       "      <td>5998</td>\n",
       "      <td>...</td>\n",
       "      <td>5998.000000</td>\n",
       "      <td>5998.000000</td>\n",
       "      <td>5998.000000</td>\n",
       "      <td>5998.000000</td>\n",
       "      <td>5435.000000</td>\n",
       "      <td>5998.000000</td>\n",
       "      <td>5998.000000</td>\n",
       "      <td>5998.000000</td>\n",
       "      <td>5998.000000</td>\n",
       "      <td>5998.000000</td>\n",
       "    </tr>\n",
       "    <tr>\n",
       "      <th>unique</th>\n",
       "      <td>NaN</td>\n",
       "      <td>4807</td>\n",
       "      <td>3</td>\n",
       "      <td>2</td>\n",
       "      <td>2</td>\n",
       "      <td>2</td>\n",
       "      <td>105</td>\n",
       "      <td>NaN</td>\n",
       "      <td>7</td>\n",
       "      <td>152</td>\n",
       "      <td>...</td>\n",
       "      <td>NaN</td>\n",
       "      <td>NaN</td>\n",
       "      <td>NaN</td>\n",
       "      <td>NaN</td>\n",
       "      <td>NaN</td>\n",
       "      <td>NaN</td>\n",
       "      <td>NaN</td>\n",
       "      <td>NaN</td>\n",
       "      <td>NaN</td>\n",
       "      <td>NaN</td>\n",
       "    </tr>\n",
       "    <tr>\n",
       "      <th>top</th>\n",
       "      <td>NaN</td>\n",
       "      <td>1986-07-11</td>\n",
       "      <td>F</td>\n",
       "      <td>False</td>\n",
       "      <td>False</td>\n",
       "      <td>usa</td>\n",
       "      <td>new york</td>\n",
       "      <td>NaN</td>\n",
       "      <td>35-44</td>\n",
       "      <td>2023-07-20</td>\n",
       "      <td>...</td>\n",
       "      <td>NaN</td>\n",
       "      <td>NaN</td>\n",
       "      <td>NaN</td>\n",
       "      <td>NaN</td>\n",
       "      <td>NaN</td>\n",
       "      <td>NaN</td>\n",
       "      <td>NaN</td>\n",
       "      <td>NaN</td>\n",
       "      <td>NaN</td>\n",
       "      <td>NaN</td>\n",
       "    </tr>\n",
       "    <tr>\n",
       "      <th>freq</th>\n",
       "      <td>NaN</td>\n",
       "      <td>5</td>\n",
       "      <td>5292</td>\n",
       "      <td>3356</td>\n",
       "      <td>4040</td>\n",
       "      <td>4991</td>\n",
       "      <td>680</td>\n",
       "      <td>NaN</td>\n",
       "      <td>2024</td>\n",
       "      <td>148</td>\n",
       "      <td>...</td>\n",
       "      <td>NaN</td>\n",
       "      <td>NaN</td>\n",
       "      <td>NaN</td>\n",
       "      <td>NaN</td>\n",
       "      <td>NaN</td>\n",
       "      <td>NaN</td>\n",
       "      <td>NaN</td>\n",
       "      <td>NaN</td>\n",
       "      <td>NaN</td>\n",
       "      <td>NaN</td>\n",
       "    </tr>\n",
       "    <tr>\n",
       "      <th>mean</th>\n",
       "      <td>545440.695565</td>\n",
       "      <td>NaN</td>\n",
       "      <td>NaN</td>\n",
       "      <td>NaN</td>\n",
       "      <td>NaN</td>\n",
       "      <td>NaN</td>\n",
       "      <td>NaN</td>\n",
       "      <td>41.963321</td>\n",
       "      <td>NaN</td>\n",
       "      <td>NaN</td>\n",
       "      <td>...</td>\n",
       "      <td>0.047624</td>\n",
       "      <td>464.030619</td>\n",
       "      <td>1030.169921</td>\n",
       "      <td>1494.200539</td>\n",
       "      <td>10.534499</td>\n",
       "      <td>0.098067</td>\n",
       "      <td>0.000014</td>\n",
       "      <td>0.005887</td>\n",
       "      <td>0.000993</td>\n",
       "      <td>0.000235</td>\n",
       "    </tr>\n",
       "    <tr>\n",
       "      <th>std</th>\n",
       "      <td>64924.749760</td>\n",
       "      <td>NaN</td>\n",
       "      <td>NaN</td>\n",
       "      <td>NaN</td>\n",
       "      <td>NaN</td>\n",
       "      <td>NaN</td>\n",
       "      <td>NaN</td>\n",
       "      <td>12.045796</td>\n",
       "      <td>NaN</td>\n",
       "      <td>NaN</td>\n",
       "      <td>...</td>\n",
       "      <td>0.065957</td>\n",
       "      <td>394.645667</td>\n",
       "      <td>1199.563272</td>\n",
       "      <td>1377.157763</td>\n",
       "      <td>8.300045</td>\n",
       "      <td>0.075723</td>\n",
       "      <td>0.000046</td>\n",
       "      <td>0.019684</td>\n",
       "      <td>0.001912</td>\n",
       "      <td>0.001850</td>\n",
       "    </tr>\n",
       "    <tr>\n",
       "      <th>min</th>\n",
       "      <td>23557.000000</td>\n",
       "      <td>NaN</td>\n",
       "      <td>NaN</td>\n",
       "      <td>NaN</td>\n",
       "      <td>NaN</td>\n",
       "      <td>NaN</td>\n",
       "      <td>NaN</td>\n",
       "      <td>17.000000</td>\n",
       "      <td>NaN</td>\n",
       "      <td>NaN</td>\n",
       "      <td>...</td>\n",
       "      <td>0.000000</td>\n",
       "      <td>0.000000</td>\n",
       "      <td>0.000000</td>\n",
       "      <td>0.000000</td>\n",
       "      <td>0.000000</td>\n",
       "      <td>0.000000</td>\n",
       "      <td>0.000000</td>\n",
       "      <td>0.000000</td>\n",
       "      <td>0.000000</td>\n",
       "      <td>0.000000</td>\n",
       "    </tr>\n",
       "    <tr>\n",
       "      <th>25%</th>\n",
       "      <td>517152.000000</td>\n",
       "      <td>NaN</td>\n",
       "      <td>NaN</td>\n",
       "      <td>NaN</td>\n",
       "      <td>NaN</td>\n",
       "      <td>NaN</td>\n",
       "      <td>NaN</td>\n",
       "      <td>35.000000</td>\n",
       "      <td>NaN</td>\n",
       "      <td>NaN</td>\n",
       "      <td>...</td>\n",
       "      <td>0.000000</td>\n",
       "      <td>171.050000</td>\n",
       "      <td>272.865500</td>\n",
       "      <td>577.895500</td>\n",
       "      <td>5.000000</td>\n",
       "      <td>0.054590</td>\n",
       "      <td>0.000000</td>\n",
       "      <td>0.000000</td>\n",
       "      <td>0.000000</td>\n",
       "      <td>0.000000</td>\n",
       "    </tr>\n",
       "    <tr>\n",
       "      <th>50%</th>\n",
       "      <td>540542.000000</td>\n",
       "      <td>NaN</td>\n",
       "      <td>NaN</td>\n",
       "      <td>NaN</td>\n",
       "      <td>NaN</td>\n",
       "      <td>NaN</td>\n",
       "      <td>NaN</td>\n",
       "      <td>42.000000</td>\n",
       "      <td>NaN</td>\n",
       "      <td>NaN</td>\n",
       "      <td>...</td>\n",
       "      <td>0.000000</td>\n",
       "      <td>384.000000</td>\n",
       "      <td>766.773000</td>\n",
       "      <td>1243.730750</td>\n",
       "      <td>9.000000</td>\n",
       "      <td>0.087134</td>\n",
       "      <td>0.000007</td>\n",
       "      <td>0.002935</td>\n",
       "      <td>0.000301</td>\n",
       "      <td>0.000034</td>\n",
       "    </tr>\n",
       "    <tr>\n",
       "      <th>75%</th>\n",
       "      <td>574146.000000</td>\n",
       "      <td>NaN</td>\n",
       "      <td>NaN</td>\n",
       "      <td>NaN</td>\n",
       "      <td>NaN</td>\n",
       "      <td>NaN</td>\n",
       "      <td>NaN</td>\n",
       "      <td>49.000000</td>\n",
       "      <td>NaN</td>\n",
       "      <td>NaN</td>\n",
       "      <td>...</td>\n",
       "      <td>0.088889</td>\n",
       "      <td>664.000000</td>\n",
       "      <td>1377.695000</td>\n",
       "      <td>2028.201250</td>\n",
       "      <td>14.000000</td>\n",
       "      <td>0.128195</td>\n",
       "      <td>0.000017</td>\n",
       "      <td>0.007188</td>\n",
       "      <td>0.001403</td>\n",
       "      <td>0.000194</td>\n",
       "    </tr>\n",
       "    <tr>\n",
       "      <th>max</th>\n",
       "      <td>844489.000000</td>\n",
       "      <td>NaN</td>\n",
       "      <td>NaN</td>\n",
       "      <td>NaN</td>\n",
       "      <td>NaN</td>\n",
       "      <td>NaN</td>\n",
       "      <td>NaN</td>\n",
       "      <td>89.000000</td>\n",
       "      <td>NaN</td>\n",
       "      <td>NaN</td>\n",
       "      <td>...</td>\n",
       "      <td>0.500000</td>\n",
       "      <td>4827.650000</td>\n",
       "      <td>21614.703000</td>\n",
       "      <td>22310.703000</td>\n",
       "      <td>72.000000</td>\n",
       "      <td>1.000000</td>\n",
       "      <td>0.002356</td>\n",
       "      <td>1.000000</td>\n",
       "      <td>0.059774</td>\n",
       "      <td>0.112500</td>\n",
       "    </tr>\n",
       "  </tbody>\n",
       "</table>\n",
       "<p>11 rows × 37 columns</p>\n",
       "</div>"
      ],
      "text/plain": [
       "              user_id   birthdate gender married has_children home_country  \\\n",
       "count     5998.000000        5998   5998    5998         5998         5998   \n",
       "unique            NaN        4807      3       2            2            2   \n",
       "top               NaN  1986-07-11      F   False        False          usa   \n",
       "freq              NaN           5   5292    3356         4040         4991   \n",
       "mean    545440.695565         NaN    NaN     NaN          NaN          NaN   \n",
       "std      64924.749760         NaN    NaN     NaN          NaN          NaN   \n",
       "min      23557.000000         NaN    NaN     NaN          NaN          NaN   \n",
       "25%     517152.000000         NaN    NaN     NaN          NaN          NaN   \n",
       "50%     540542.000000         NaN    NaN     NaN          NaN          NaN   \n",
       "75%     574146.000000         NaN    NaN     NaN          NaN          NaN   \n",
       "max     844489.000000         NaN    NaN     NaN          NaN          NaN   \n",
       "\n",
       "       home_city          age age_group latest_session  ...  \\\n",
       "count       5998  5998.000000      5998           5998  ...   \n",
       "unique       105          NaN         7            152  ...   \n",
       "top     new york          NaN     35-44     2023-07-20  ...   \n",
       "freq         680          NaN      2024            148  ...   \n",
       "mean         NaN    41.963321       NaN            NaN  ...   \n",
       "std          NaN    12.045796       NaN            NaN  ...   \n",
       "min          NaN    17.000000       NaN            NaN  ...   \n",
       "25%          NaN    35.000000       NaN            NaN  ...   \n",
       "50%          NaN    42.000000       NaN            NaN  ...   \n",
       "75%          NaN    49.000000       NaN            NaN  ...   \n",
       "max          NaN    89.000000       NaN            NaN  ...   \n",
       "\n",
       "        discount_responsiveness  total_hotel_usd_spent  \\\n",
       "count               5998.000000            5998.000000   \n",
       "unique                      NaN                    NaN   \n",
       "top                         NaN                    NaN   \n",
       "freq                        NaN                    NaN   \n",
       "mean                   0.047624             464.030619   \n",
       "std                    0.065957             394.645667   \n",
       "min                    0.000000               0.000000   \n",
       "25%                    0.000000             171.050000   \n",
       "50%                    0.000000             384.000000   \n",
       "75%                    0.088889             664.000000   \n",
       "max                    0.500000            4827.650000   \n",
       "\n",
       "        total_flight_usd_spent  total_usd_spent  total_nights  \\\n",
       "count              5998.000000      5998.000000   5435.000000   \n",
       "unique                     NaN              NaN           NaN   \n",
       "top                        NaN              NaN           NaN   \n",
       "freq                       NaN              NaN           NaN   \n",
       "mean               1030.169921      1494.200539     10.534499   \n",
       "std                1199.563272      1377.157763      8.300045   \n",
       "min                   0.000000         0.000000      0.000000   \n",
       "25%                 272.865500       577.895500      5.000000   \n",
       "50%                 766.773000      1243.730750      9.000000   \n",
       "75%                1377.695000      2028.201250     14.000000   \n",
       "max               21614.703000     22310.703000     72.000000   \n",
       "\n",
       "        scaled_hotel_ads   ads_per_km  scaled_ads_per_km  hotel_hunter_index  \\\n",
       "count        5998.000000  5998.000000        5998.000000         5998.000000   \n",
       "unique               NaN          NaN                NaN                 NaN   \n",
       "top                  NaN          NaN                NaN                 NaN   \n",
       "freq                 NaN          NaN                NaN                 NaN   \n",
       "mean            0.098067     0.000014           0.005887            0.000993   \n",
       "std             0.075723     0.000046           0.019684            0.001912   \n",
       "min             0.000000     0.000000           0.000000            0.000000   \n",
       "25%             0.054590     0.000000           0.000000            0.000000   \n",
       "50%             0.087134     0.000007           0.002935            0.000301   \n",
       "75%             0.128195     0.000017           0.007188            0.001403   \n",
       "max             1.000000     0.002356           1.000000            0.059774   \n",
       "\n",
       "        flight_hunter_index  \n",
       "count           5998.000000  \n",
       "unique                  NaN  \n",
       "top                     NaN  \n",
       "freq                    NaN  \n",
       "mean               0.000235  \n",
       "std                0.001850  \n",
       "min                0.000000  \n",
       "25%                0.000000  \n",
       "50%                0.000034  \n",
       "75%                0.000194  \n",
       "max                0.112500  \n",
       "\n",
       "[11 rows x 37 columns]"
      ]
     },
     "execution_count": 16,
     "metadata": {},
     "output_type": "execute_result"
    }
   ],
   "source": [
    "CombainedData.describe(include='all')"
   ]
  },
  {
   "cell_type": "markdown",
   "id": "dfd76db5-1567-49b0-b0f2-5d36632ff6ec",
   "metadata": {},
   "source": [
    "## Clustering our Dataset"
   ]
  },
  {
   "cell_type": "code",
   "execution_count": 17,
   "id": "bf6aa08f-5e99-4d1b-849f-dd42237fd93e",
   "metadata": {},
   "outputs": [
    {
     "name": "stdout",
     "output_type": "stream",
     "text": [
      "Cluster 0\n",
      "total_cancellation_rate_scaled       0.513499\n",
      "average_checked_bags_scaled          0.374899\n",
      "conversion_rate_scaled              -0.106603\n",
      "prefers_flights_scaled               2.160954\n",
      "prefers_hotels_scaled               -0.237144\n",
      "prefers_both_scaled                 -0.787321\n",
      "discount_responsiveness_scaled       0.779479\n",
      "flight_discount_proportion_scaled    0.262278\n",
      "average_flight_discount_scaled       0.208138\n",
      "hotel_discount_proportion_scaled    -0.019393\n",
      "average_hotel_discount_scaled       -0.035144\n",
      "both_discount_proportion_scaled     -0.195436\n",
      "flight_hunter_index_scaled           0.161936\n",
      "hotel_hunter_index_scaled           -0.164264\n",
      "total_hotel_usd_spent_scaled        -0.663180\n",
      "total_flight_usd_spent_scaled        0.298383\n",
      "age_scaled                          -0.076088\n",
      "dtype: float64\n",
      "--------------------------------------------------\n",
      "Cluster 1\n",
      "total_cancellation_rate_scaled      -0.028184\n",
      "average_checked_bags_scaled          0.159299\n",
      "conversion_rate_scaled               0.217951\n",
      "prefers_flights_scaled              -0.182603\n",
      "prefers_hotels_scaled               -0.128274\n",
      "prefers_both_scaled                  0.400593\n",
      "discount_responsiveness_scaled       1.210668\n",
      "flight_discount_proportion_scaled   -0.121105\n",
      "average_flight_discount_scaled       0.359492\n",
      "hotel_discount_proportion_scaled    -0.122813\n",
      "average_hotel_discount_scaled        0.534428\n",
      "both_discount_proportion_scaled      1.971286\n",
      "flight_hunter_index_scaled           0.011614\n",
      "hotel_hunter_index_scaled           -0.101987\n",
      "total_hotel_usd_spent_scaled         0.065035\n",
      "total_flight_usd_spent_scaled       -0.026616\n",
      "age_scaled                           0.054308\n",
      "dtype: float64\n",
      "--------------------------------------------------\n",
      "Cluster 2\n",
      "total_cancellation_rate_scaled      -0.013085\n",
      "average_checked_bags_scaled          0.123101\n",
      "conversion_rate_scaled               0.277101\n",
      "prefers_flights_scaled              -0.290846\n",
      "prefers_hotels_scaled               -0.247881\n",
      "prefers_both_scaled                  0.551026\n",
      "discount_responsiveness_scaled      -0.601257\n",
      "flight_discount_proportion_scaled    0.252749\n",
      "average_flight_discount_scaled       0.076648\n",
      "hotel_discount_proportion_scaled    -0.732650\n",
      "average_hotel_discount_scaled       -0.924217\n",
      "both_discount_proportion_scaled     -0.466282\n",
      "flight_hunter_index_scaled           0.034840\n",
      "hotel_hunter_index_scaled           -0.443679\n",
      "total_hotel_usd_spent_scaled         0.421172\n",
      "total_flight_usd_spent_scaled        0.081453\n",
      "age_scaled                           0.077803\n",
      "dtype: float64\n",
      "--------------------------------------------------\n",
      "Cluster 3\n",
      "total_cancellation_rate_scaled      -0.284467\n",
      "average_checked_bags_scaled         -0.949689\n",
      "conversion_rate_scaled              -1.246243\n",
      "prefers_flights_scaled              -0.482442\n",
      "prefers_hotels_scaled                1.119233\n",
      "prefers_both_scaled                 -1.664028\n",
      "discount_responsiveness_scaled       0.038873\n",
      "flight_discount_proportion_scaled   -0.054368\n",
      "average_flight_discount_scaled      -0.034735\n",
      "hotel_discount_proportion_scaled     0.017378\n",
      "average_hotel_discount_scaled       -0.021434\n",
      "both_discount_proportion_scaled     -0.029116\n",
      "flight_hunter_index_scaled          -0.096986\n",
      "hotel_hunter_index_scaled           -0.252286\n",
      "total_hotel_usd_spent_scaled        -0.792095\n",
      "total_flight_usd_spent_scaled       -0.808573\n",
      "age_scaled                          -0.230615\n",
      "dtype: float64\n",
      "--------------------------------------------------\n",
      "Cluster 4\n",
      "total_cancellation_rate_scaled      -0.017517\n",
      "average_checked_bags_scaled          0.174539\n",
      "conversion_rate_scaled               0.345073\n",
      "prefers_flights_scaled              -0.197127\n",
      "prefers_hotels_scaled               -0.211163\n",
      "prefers_both_scaled                  0.472029\n",
      "discount_responsiveness_scaled      -0.344656\n",
      "flight_discount_proportion_scaled   -0.281149\n",
      "average_flight_discount_scaled      -0.338877\n",
      "hotel_discount_proportion_scaled     0.846089\n",
      "average_hotel_discount_scaled        0.728364\n",
      "both_discount_proportion_scaled     -0.458311\n",
      "flight_hunter_index_scaled          -0.053924\n",
      "hotel_hunter_index_scaled            0.739911\n",
      "total_hotel_usd_spent_scaled         0.239770\n",
      "total_flight_usd_spent_scaled        0.268687\n",
      "age_scaled                           0.051054\n",
      "dtype: float64\n",
      "--------------------------------------------------\n"
     ]
    }
   ],
   "source": [
    "df = CombainedData.copy()\n",
    "\n",
    "\n",
    "\n",
    "# Select relevant features for clustering\n",
    "features = ['total_cancellation_rate', 'average_checked_bags', 'conversion_rate',\n",
    "                     'prefers_flights', 'prefers_hotels', 'prefers_both',  \n",
    "                     'discount_responsiveness', 'flight_discount_proportion','average_flight_discount',\n",
    "                     'hotel_discount_proportion', 'average_hotel_discount', 'both_discount_proportion',\n",
    "                     'flight_hunter_index', 'hotel_hunter_index', \n",
    "                     'total_hotel_usd_spent', 'total_flight_usd_spent', 'age'\n",
    "                    ]\n",
    "\n",
    "\n",
    "# Convert categorical features to numeric using one-hot encoding\n",
    "df_encoded = pd.get_dummies(df[features], drop_first=True)\n",
    "\n",
    "# Scale the features\n",
    "scaler = StandardScaler()\n",
    "df_scaled = scaler.fit_transform(df_encoded)\n",
    "\n",
    "scaled_columns = [feature + \"_scaled\" for feature in features]\n",
    "scaler = StandardScaler()\n",
    "df[scaled_columns] = scaler.fit_transform(df[features])\n",
    "\n",
    "# Apply K-Means clustering\n",
    "kmeans = KMeans(n_clusters=5,n_init=10,  random_state=42)  # Adjust the number of clusters as needed\n",
    "df['cluster'] = kmeans.fit_predict(df_scaled)\n",
    "\n",
    "# Analyze the clusters\n",
    "for cluster in range(5):\n",
    "    print(f\"Cluster {cluster}\")\n",
    "    print(df[df['cluster'] == cluster][scaled_columns].mean())\n",
    "    #visual separator -----\n",
    "    print('-'*50)\n",
    "\n",
    "\n"
   ]
  },
  {
   "cell_type": "markdown",
   "id": "ec400521-90bd-4799-a07c-a29f139b4d49",
   "metadata": {},
   "source": [
    "### Correlation Matrix Heatmap\n",
    "\n",
    "We need to verify that our metrics aren't strongly correlated, as high correlations between metrics can amplify the influence of the original variable in the k-means clustering algorithm, potentially leading to less than optimal results.\n",
    "\n",
    "To mitigate this issue, I will utilize a correlation matrix paired with a heatmap. This visualization method enables us to examine the strength of relationships between different metrics. By identifying and analyzing any significant correlations, we can make informed decisions about which features to include, ensuring that the clustering process relies on relevant and independent attributes.\n",
    "\n",
    "This step is essential to prevent problems that could arise from using redundant or overly similar metrics during clustering.\n",
    "\n",
    "This completes the data transformation and aggregation tasks necessary for executing the clustering algorithm."
   ]
  },
  {
   "cell_type": "code",
   "execution_count": 22,
   "id": "6c36dd30-5005-4b91-a9ba-38015a32bc00",
   "metadata": {},
   "outputs": [
    {
     "data": {
      "application/vnd.plotly.v1+json": {
       "config": {
        "plotlyServerURL": "https://plot.ly"
       },
       "data": [
        {
         "coloraxis": "coloraxis",
         "hovertemplate": "x: %{x}<br>y: %{y}<br>color: %{z}<extra></extra>",
         "name": "0",
         "texttemplate": "%{z:.2f}",
         "type": "heatmap",
         "x": [
          "age",
          "total_cancellation_rate",
          "average_checked_bags",
          "conversion_rate",
          "prefers_flights",
          "prefers_hotels",
          "prefers_both",
          "discount_responsiveness",
          "flight_discount_proportion",
          "average_flight_discount",
          "hotel_discount_proportion",
          "average_hotel_discount",
          "both_discount_proportion",
          "flight_hunter_index",
          "hotel_hunter_index",
          "total_hotel_usd_spent",
          "total_flight_usd_spent"
         ],
         "xaxis": "x",
         "y": [
          "age",
          "total_cancellation_rate",
          "average_checked_bags",
          "conversion_rate",
          "prefers_flights",
          "prefers_hotels",
          "prefers_both",
          "discount_responsiveness",
          "flight_discount_proportion",
          "average_flight_discount",
          "hotel_discount_proportion",
          "average_hotel_discount",
          "both_discount_proportion",
          "flight_hunter_index",
          "hotel_hunter_index",
          "total_hotel_usd_spent",
          "total_flight_usd_spent"
         ],
         "yaxis": "y",
         "z": [
          [
           1,
           -0.05687333361893,
           0.05588123218552162,
           0.12048131508286872,
           0.005881108053511263,
           -0.04879206549576161,
           0.08295802905393783,
           -0.007405919377387382,
           0.01025438935087737,
           0.0033909402687397248,
           0.0014684611108921998,
           0.0002809799591226128,
           -0.009366034889309496,
           -0.024883823455079463,
           -0.008158486433234767,
           0.08175275446753136,
           0.06511694243931018
          ],
          [
           -0.05687333361893,
           1,
           0.16209869837083926,
           0.13528951387926938,
           0.10308843729516895,
           -0.08864281229747792,
           0.07577917765662713,
           -0.01637447308346885,
           -0.020546959539071187,
           -0.014454623355352062,
           -0.016604213198675583,
           -0.009597137976285365,
           -0.018069884322110964,
           -0.009523820443256274,
           -0.02656243334788062,
           -0.060409862173709535,
           0.21185636740356203
          ],
          [
           0.05588123218552162,
           0.16209869837083926,
           1,
           0.21536827537012992,
           0.11755356216793854,
           -0.14969469588000836,
           0.25986486659111335,
           0.016382595705794485,
           -0.007670637155445628,
           -0.011490045177265824,
           0.010436205965641942,
           0.019427532386586063,
           -0.0007084672671651935,
           -0.0035403463498964896,
           0.04305431524064594,
           0.12835312684548641,
           0.32501478770237147
          ],
          [
           0.12048131508286872,
           0.13528951387926938,
           0.21536827537012992,
           1,
           0.07805654712966818,
           -0.10213565097023884,
           0.4027356324926604,
           0.01674246801921715,
           -0.0258390028893413,
           -0.005833306435032102,
           0.021361240372309485,
           -0.0004930370411121136,
           -0.025529207651167465,
           -0.0027519136569044878,
           0.09107232346945363,
           0.6390569541825785,
           0.4736876441565531
          ],
          [
           0.005881108053511263,
           0.10308843729516895,
           0.11755356216793854,
           0.07805654712966818,
           1,
           -0.14242992254146652,
           -0.3286653923232864,
           0.3041361255260708,
           0.00509593520339926,
           0.017177774597406145,
           0.011221959439490304,
           0.019742038327306727,
           -0.011777053141393136,
           0.035507756322520276,
           -0.005550064012184054,
           -0.1720288690038599,
           0.16525228452805946
          ],
          [
           -0.04879206549576161,
           -0.08864281229747792,
           -0.14969469588000836,
           -0.10213565097023884,
           -0.14242992254146652,
           1,
           -0.5707622276308626,
           0.3060459991455382,
           0.005184863529001787,
           0.016604446427981596,
           0.021910847530743,
           0.02158174736091848,
           0.02598692620530121,
           0.00990150056424308,
           0.05172534803038197,
           -0.02233727838050997,
           -0.23200458983872796
          ],
          [
           0.08295802905393783,
           0.07577917765662713,
           0.25986486659111335,
           0.4027356324926604,
           -0.3286653923232864,
           -0.5707622276308626,
           1,
           -0.25294550542772154,
           0.004018043834700314,
           -0.013207863698632727,
           -0.0185783825517464,
           -0.015407301523773599,
           -0.012806533484933727,
           -0.0009889680209857034,
           0.0689200085055226,
           0.3493695873509288,
           0.2627409891467847
          ],
          [
           -0.007405919377387382,
           -0.01637447308346885,
           0.016382595705794485,
           0.01674246801921715,
           0.3041361255260708,
           0.3060459991455382,
           -0.25294550542772154,
           1,
           0.09666304731101098,
           0.1511508758696867,
           0.21437424755203546,
           0.2628522787716906,
           0.5142511119014219,
           0.07064709372139091,
           0.12299340880733654,
           -0.11920554285660898,
           -0.05664964278342805
          ],
          [
           0.01025438935087737,
           -0.020546959539071187,
           -0.007670637155445628,
           -0.0258390028893413,
           0.00509593520339926,
           0.005184863529001787,
           0.004018043834700314,
           0.09666304731101098,
           1,
           0.4048471223914013,
           -0.1515196299836801,
           -0.08972749357144431,
           -0.06632466623760896,
           0.17773825939538376,
           -0.0668142798005958,
           0.02631902706095944,
           -0.10720561807173283
          ],
          [
           0.0033909402687397248,
           -0.014454623355352062,
           -0.011490045177265824,
           -0.005833306435032102,
           0.017177774597406145,
           0.016604446427981596,
           -0.013207863698632727,
           0.1511508758696867,
           0.4048471223914013,
           1,
           -0.08695678516712572,
           0.010601999502214826,
           0.17413118282692547,
           0.122629864995344,
           -0.04665471626336909,
           0.0052692810272964566,
           -0.055792414414732275
          ],
          [
           0.0014684611108921998,
           -0.016604213198675583,
           0.010436205965641942,
           0.021361240372309485,
           0.011221959439490304,
           0.021910847530743,
           -0.0185783825517464,
           0.21437424755203546,
           -0.1515196299836801,
           -0.08695678516712572,
           1,
           0.5124569174316501,
           -0.06373813781825964,
           -0.039125582659556575,
           0.5008691364075983,
           -0.13120546535099675,
           0.031408731361393286
          ],
          [
           0.0002809799591226128,
           -0.009597137976285365,
           0.019427532386586063,
           -0.0004930370411121136,
           0.019742038327306727,
           0.02158174736091848,
           -0.015407301523773599,
           0.2628522787716906,
           -0.08972749357144431,
           0.010601999502214826,
           0.5124569174316501,
           1,
           0.24112613432121066,
           -0.0264388711837814,
           0.4885450990641901,
           -0.0737178461665942,
           0.012269840426391577
          ],
          [
           -0.009366034889309496,
           -0.018069884322110964,
           -0.0007084672671651935,
           -0.025529207651167465,
           -0.011777053141393136,
           0.02598692620530121,
           -0.012806533484933727,
           0.5142511119014219,
           -0.06632466623760896,
           0.17413118282692547,
           -0.06373813781825964,
           0.24112613432121066,
           1,
           -0.003174638840178818,
           -0.06680818823163233,
           -0.07281825361531218,
           -0.058088498517329515
          ],
          [
           -0.024883823455079463,
           -0.009523820443256274,
           -0.0035403463498964896,
           -0.0027519136569044878,
           0.035507756322520276,
           0.00990150056424308,
           -0.0009889680209857034,
           0.07064709372139091,
           0.17773825939538376,
           0.122629864995344,
           -0.039125582659556575,
           -0.0264388711837814,
           -0.003174638840178818,
           1,
           -0.015683018716471396,
           -0.006918306547733952,
           -0.04565063001908198
          ],
          [
           -0.008158486433234767,
           -0.02656243334788062,
           0.04305431524064594,
           0.09107232346945363,
           -0.005550064012184054,
           0.05172534803038197,
           0.0689200085055226,
           0.12299340880733654,
           -0.0668142798005958,
           -0.04665471626336909,
           0.5008691364075983,
           0.4885450990641901,
           -0.06680818823163233,
           -0.015683018716471396,
           1,
           0.2285157316783714,
           0.06441322825048276
          ],
          [
           0.08175275446753136,
           -0.060409862173709535,
           0.12835312684548641,
           0.6390569541825785,
           -0.1720288690038599,
           -0.02233727838050997,
           0.3493695873509288,
           -0.11920554285660898,
           0.02631902706095944,
           0.0052692810272964566,
           -0.13120546535099675,
           -0.0737178461665942,
           -0.07281825361531218,
           -0.006918306547733952,
           0.2285157316783714,
           1,
           0.3188262532446781
          ],
          [
           0.06511694243931018,
           0.21185636740356203,
           0.32501478770237147,
           0.4736876441565531,
           0.16525228452805946,
           -0.23200458983872796,
           0.2627409891467847,
           -0.05664964278342805,
           -0.10720561807173283,
           -0.055792414414732275,
           0.031408731361393286,
           0.012269840426391577,
           -0.058088498517329515,
           -0.04565063001908198,
           0.06441322825048276,
           0.3188262532446781,
           1
          ]
         ]
        }
       ],
       "layout": {
        "coloraxis": {
         "colorscale": [
          [
           0,
           "rgb(5,48,97)"
          ],
          [
           0.1,
           "rgb(33,102,172)"
          ],
          [
           0.2,
           "rgb(67,147,195)"
          ],
          [
           0.3,
           "rgb(146,197,222)"
          ],
          [
           0.4,
           "rgb(209,229,240)"
          ],
          [
           0.5,
           "rgb(247,247,247)"
          ],
          [
           0.6,
           "rgb(253,219,199)"
          ],
          [
           0.7,
           "rgb(244,165,130)"
          ],
          [
           0.8,
           "rgb(214,96,77)"
          ],
          [
           0.9,
           "rgb(178,24,43)"
          ],
          [
           1,
           "rgb(103,0,31)"
          ]
         ]
        },
        "height": 800,
        "template": {
         "data": {
          "bar": [
           {
            "error_x": {
             "color": "#2a3f5f"
            },
            "error_y": {
             "color": "#2a3f5f"
            },
            "marker": {
             "line": {
              "color": "#E5ECF6",
              "width": 0.5
             },
             "pattern": {
              "fillmode": "overlay",
              "size": 10,
              "solidity": 0.2
             }
            },
            "type": "bar"
           }
          ],
          "barpolar": [
           {
            "marker": {
             "line": {
              "color": "#E5ECF6",
              "width": 0.5
             },
             "pattern": {
              "fillmode": "overlay",
              "size": 10,
              "solidity": 0.2
             }
            },
            "type": "barpolar"
           }
          ],
          "carpet": [
           {
            "aaxis": {
             "endlinecolor": "#2a3f5f",
             "gridcolor": "white",
             "linecolor": "white",
             "minorgridcolor": "white",
             "startlinecolor": "#2a3f5f"
            },
            "baxis": {
             "endlinecolor": "#2a3f5f",
             "gridcolor": "white",
             "linecolor": "white",
             "minorgridcolor": "white",
             "startlinecolor": "#2a3f5f"
            },
            "type": "carpet"
           }
          ],
          "choropleth": [
           {
            "colorbar": {
             "outlinewidth": 0,
             "ticks": ""
            },
            "type": "choropleth"
           }
          ],
          "contour": [
           {
            "colorbar": {
             "outlinewidth": 0,
             "ticks": ""
            },
            "colorscale": [
             [
              0,
              "#0d0887"
             ],
             [
              0.1111111111111111,
              "#46039f"
             ],
             [
              0.2222222222222222,
              "#7201a8"
             ],
             [
              0.3333333333333333,
              "#9c179e"
             ],
             [
              0.4444444444444444,
              "#bd3786"
             ],
             [
              0.5555555555555556,
              "#d8576b"
             ],
             [
              0.6666666666666666,
              "#ed7953"
             ],
             [
              0.7777777777777778,
              "#fb9f3a"
             ],
             [
              0.8888888888888888,
              "#fdca26"
             ],
             [
              1,
              "#f0f921"
             ]
            ],
            "type": "contour"
           }
          ],
          "contourcarpet": [
           {
            "colorbar": {
             "outlinewidth": 0,
             "ticks": ""
            },
            "type": "contourcarpet"
           }
          ],
          "heatmap": [
           {
            "colorbar": {
             "outlinewidth": 0,
             "ticks": ""
            },
            "colorscale": [
             [
              0,
              "#0d0887"
             ],
             [
              0.1111111111111111,
              "#46039f"
             ],
             [
              0.2222222222222222,
              "#7201a8"
             ],
             [
              0.3333333333333333,
              "#9c179e"
             ],
             [
              0.4444444444444444,
              "#bd3786"
             ],
             [
              0.5555555555555556,
              "#d8576b"
             ],
             [
              0.6666666666666666,
              "#ed7953"
             ],
             [
              0.7777777777777778,
              "#fb9f3a"
             ],
             [
              0.8888888888888888,
              "#fdca26"
             ],
             [
              1,
              "#f0f921"
             ]
            ],
            "type": "heatmap"
           }
          ],
          "heatmapgl": [
           {
            "colorbar": {
             "outlinewidth": 0,
             "ticks": ""
            },
            "colorscale": [
             [
              0,
              "#0d0887"
             ],
             [
              0.1111111111111111,
              "#46039f"
             ],
             [
              0.2222222222222222,
              "#7201a8"
             ],
             [
              0.3333333333333333,
              "#9c179e"
             ],
             [
              0.4444444444444444,
              "#bd3786"
             ],
             [
              0.5555555555555556,
              "#d8576b"
             ],
             [
              0.6666666666666666,
              "#ed7953"
             ],
             [
              0.7777777777777778,
              "#fb9f3a"
             ],
             [
              0.8888888888888888,
              "#fdca26"
             ],
             [
              1,
              "#f0f921"
             ]
            ],
            "type": "heatmapgl"
           }
          ],
          "histogram": [
           {
            "marker": {
             "pattern": {
              "fillmode": "overlay",
              "size": 10,
              "solidity": 0.2
             }
            },
            "type": "histogram"
           }
          ],
          "histogram2d": [
           {
            "colorbar": {
             "outlinewidth": 0,
             "ticks": ""
            },
            "colorscale": [
             [
              0,
              "#0d0887"
             ],
             [
              0.1111111111111111,
              "#46039f"
             ],
             [
              0.2222222222222222,
              "#7201a8"
             ],
             [
              0.3333333333333333,
              "#9c179e"
             ],
             [
              0.4444444444444444,
              "#bd3786"
             ],
             [
              0.5555555555555556,
              "#d8576b"
             ],
             [
              0.6666666666666666,
              "#ed7953"
             ],
             [
              0.7777777777777778,
              "#fb9f3a"
             ],
             [
              0.8888888888888888,
              "#fdca26"
             ],
             [
              1,
              "#f0f921"
             ]
            ],
            "type": "histogram2d"
           }
          ],
          "histogram2dcontour": [
           {
            "colorbar": {
             "outlinewidth": 0,
             "ticks": ""
            },
            "colorscale": [
             [
              0,
              "#0d0887"
             ],
             [
              0.1111111111111111,
              "#46039f"
             ],
             [
              0.2222222222222222,
              "#7201a8"
             ],
             [
              0.3333333333333333,
              "#9c179e"
             ],
             [
              0.4444444444444444,
              "#bd3786"
             ],
             [
              0.5555555555555556,
              "#d8576b"
             ],
             [
              0.6666666666666666,
              "#ed7953"
             ],
             [
              0.7777777777777778,
              "#fb9f3a"
             ],
             [
              0.8888888888888888,
              "#fdca26"
             ],
             [
              1,
              "#f0f921"
             ]
            ],
            "type": "histogram2dcontour"
           }
          ],
          "mesh3d": [
           {
            "colorbar": {
             "outlinewidth": 0,
             "ticks": ""
            },
            "type": "mesh3d"
           }
          ],
          "parcoords": [
           {
            "line": {
             "colorbar": {
              "outlinewidth": 0,
              "ticks": ""
             }
            },
            "type": "parcoords"
           }
          ],
          "pie": [
           {
            "automargin": true,
            "type": "pie"
           }
          ],
          "scatter": [
           {
            "fillpattern": {
             "fillmode": "overlay",
             "size": 10,
             "solidity": 0.2
            },
            "type": "scatter"
           }
          ],
          "scatter3d": [
           {
            "line": {
             "colorbar": {
              "outlinewidth": 0,
              "ticks": ""
             }
            },
            "marker": {
             "colorbar": {
              "outlinewidth": 0,
              "ticks": ""
             }
            },
            "type": "scatter3d"
           }
          ],
          "scattercarpet": [
           {
            "marker": {
             "colorbar": {
              "outlinewidth": 0,
              "ticks": ""
             }
            },
            "type": "scattercarpet"
           }
          ],
          "scattergeo": [
           {
            "marker": {
             "colorbar": {
              "outlinewidth": 0,
              "ticks": ""
             }
            },
            "type": "scattergeo"
           }
          ],
          "scattergl": [
           {
            "marker": {
             "colorbar": {
              "outlinewidth": 0,
              "ticks": ""
             }
            },
            "type": "scattergl"
           }
          ],
          "scattermapbox": [
           {
            "marker": {
             "colorbar": {
              "outlinewidth": 0,
              "ticks": ""
             }
            },
            "type": "scattermapbox"
           }
          ],
          "scatterpolar": [
           {
            "marker": {
             "colorbar": {
              "outlinewidth": 0,
              "ticks": ""
             }
            },
            "type": "scatterpolar"
           }
          ],
          "scatterpolargl": [
           {
            "marker": {
             "colorbar": {
              "outlinewidth": 0,
              "ticks": ""
             }
            },
            "type": "scatterpolargl"
           }
          ],
          "scatterternary": [
           {
            "marker": {
             "colorbar": {
              "outlinewidth": 0,
              "ticks": ""
             }
            },
            "type": "scatterternary"
           }
          ],
          "surface": [
           {
            "colorbar": {
             "outlinewidth": 0,
             "ticks": ""
            },
            "colorscale": [
             [
              0,
              "#0d0887"
             ],
             [
              0.1111111111111111,
              "#46039f"
             ],
             [
              0.2222222222222222,
              "#7201a8"
             ],
             [
              0.3333333333333333,
              "#9c179e"
             ],
             [
              0.4444444444444444,
              "#bd3786"
             ],
             [
              0.5555555555555556,
              "#d8576b"
             ],
             [
              0.6666666666666666,
              "#ed7953"
             ],
             [
              0.7777777777777778,
              "#fb9f3a"
             ],
             [
              0.8888888888888888,
              "#fdca26"
             ],
             [
              1,
              "#f0f921"
             ]
            ],
            "type": "surface"
           }
          ],
          "table": [
           {
            "cells": {
             "fill": {
              "color": "#EBF0F8"
             },
             "line": {
              "color": "white"
             }
            },
            "header": {
             "fill": {
              "color": "#C8D4E3"
             },
             "line": {
              "color": "white"
             }
            },
            "type": "table"
           }
          ]
         },
         "layout": {
          "annotationdefaults": {
           "arrowcolor": "#2a3f5f",
           "arrowhead": 0,
           "arrowwidth": 1
          },
          "autotypenumbers": "strict",
          "coloraxis": {
           "colorbar": {
            "outlinewidth": 0,
            "ticks": ""
           }
          },
          "colorscale": {
           "diverging": [
            [
             0,
             "#8e0152"
            ],
            [
             0.1,
             "#c51b7d"
            ],
            [
             0.2,
             "#de77ae"
            ],
            [
             0.3,
             "#f1b6da"
            ],
            [
             0.4,
             "#fde0ef"
            ],
            [
             0.5,
             "#f7f7f7"
            ],
            [
             0.6,
             "#e6f5d0"
            ],
            [
             0.7,
             "#b8e186"
            ],
            [
             0.8,
             "#7fbc41"
            ],
            [
             0.9,
             "#4d9221"
            ],
            [
             1,
             "#276419"
            ]
           ],
           "sequential": [
            [
             0,
             "#0d0887"
            ],
            [
             0.1111111111111111,
             "#46039f"
            ],
            [
             0.2222222222222222,
             "#7201a8"
            ],
            [
             0.3333333333333333,
             "#9c179e"
            ],
            [
             0.4444444444444444,
             "#bd3786"
            ],
            [
             0.5555555555555556,
             "#d8576b"
            ],
            [
             0.6666666666666666,
             "#ed7953"
            ],
            [
             0.7777777777777778,
             "#fb9f3a"
            ],
            [
             0.8888888888888888,
             "#fdca26"
            ],
            [
             1,
             "#f0f921"
            ]
           ],
           "sequentialminus": [
            [
             0,
             "#0d0887"
            ],
            [
             0.1111111111111111,
             "#46039f"
            ],
            [
             0.2222222222222222,
             "#7201a8"
            ],
            [
             0.3333333333333333,
             "#9c179e"
            ],
            [
             0.4444444444444444,
             "#bd3786"
            ],
            [
             0.5555555555555556,
             "#d8576b"
            ],
            [
             0.6666666666666666,
             "#ed7953"
            ],
            [
             0.7777777777777778,
             "#fb9f3a"
            ],
            [
             0.8888888888888888,
             "#fdca26"
            ],
            [
             1,
             "#f0f921"
            ]
           ]
          },
          "colorway": [
           "#636efa",
           "#EF553B",
           "#00cc96",
           "#ab63fa",
           "#FFA15A",
           "#19d3f3",
           "#FF6692",
           "#B6E880",
           "#FF97FF",
           "#FECB52"
          ],
          "font": {
           "color": "#2a3f5f"
          },
          "geo": {
           "bgcolor": "white",
           "lakecolor": "white",
           "landcolor": "#E5ECF6",
           "showlakes": true,
           "showland": true,
           "subunitcolor": "white"
          },
          "hoverlabel": {
           "align": "left"
          },
          "hovermode": "closest",
          "mapbox": {
           "style": "light"
          },
          "paper_bgcolor": "white",
          "plot_bgcolor": "#E5ECF6",
          "polar": {
           "angularaxis": {
            "gridcolor": "white",
            "linecolor": "white",
            "ticks": ""
           },
           "bgcolor": "#E5ECF6",
           "radialaxis": {
            "gridcolor": "white",
            "linecolor": "white",
            "ticks": ""
           }
          },
          "scene": {
           "xaxis": {
            "backgroundcolor": "#E5ECF6",
            "gridcolor": "white",
            "gridwidth": 2,
            "linecolor": "white",
            "showbackground": true,
            "ticks": "",
            "zerolinecolor": "white"
           },
           "yaxis": {
            "backgroundcolor": "#E5ECF6",
            "gridcolor": "white",
            "gridwidth": 2,
            "linecolor": "white",
            "showbackground": true,
            "ticks": "",
            "zerolinecolor": "white"
           },
           "zaxis": {
            "backgroundcolor": "#E5ECF6",
            "gridcolor": "white",
            "gridwidth": 2,
            "linecolor": "white",
            "showbackground": true,
            "ticks": "",
            "zerolinecolor": "white"
           }
          },
          "shapedefaults": {
           "line": {
            "color": "#2a3f5f"
           }
          },
          "ternary": {
           "aaxis": {
            "gridcolor": "white",
            "linecolor": "white",
            "ticks": ""
           },
           "baxis": {
            "gridcolor": "white",
            "linecolor": "white",
            "ticks": ""
           },
           "bgcolor": "#E5ECF6",
           "caxis": {
            "gridcolor": "white",
            "linecolor": "white",
            "ticks": ""
           }
          },
          "title": {
           "x": 0.05
          },
          "xaxis": {
           "automargin": true,
           "gridcolor": "white",
           "linecolor": "white",
           "ticks": "",
           "title": {
            "standoff": 15
           },
           "zerolinecolor": "white",
           "zerolinewidth": 2
          },
          "yaxis": {
           "automargin": true,
           "gridcolor": "white",
           "linecolor": "white",
           "ticks": "",
           "title": {
            "standoff": 15
           },
           "zerolinecolor": "white",
           "zerolinewidth": 2
          }
         }
        },
        "title": {
         "text": "Correlation Matrix of Metrics"
        },
        "width": 1000,
        "xaxis": {
         "anchor": "y",
         "autorange": true,
         "domain": [
          0,
          1
         ],
         "range": [
          -0.5,
          16.5
         ],
         "tickangle": 45,
         "tickmode": "array",
         "type": "category"
        },
        "yaxis": {
         "anchor": "x",
         "autorange": true,
         "domain": [
          0,
          1
         ],
         "range": [
          16.5,
          -0.5
         ],
         "type": "category"
        }
       }
      },
      "image/png": "[encoded data removed]",
      "text/html": [
       "<div>                            <div id=\"7e4bf08b-201d-49c3-b31b-803b9636b889\" class=\"plotly-graph-div\" style=\"height:800px; width:1000px;\"></div>            <script type=\"text/javascript\">                require([\"plotly\"], function(Plotly) {                    window.PLOTLYENV=window.PLOTLYENV || {};                                    if (document.getElementById(\"7e4bf08b-201d-49c3-b31b-803b9636b889\")) {                    Plotly.newPlot(                        \"7e4bf08b-201d-49c3-b31b-803b9636b889\",                        [{\"coloraxis\":\"coloraxis\",\"name\":\"0\",\"texttemplate\":\"%{z:.2f}\",\"x\":[\"age\",\"total_cancellation_rate\",\"average_checked_bags\",\"conversion_rate\",\"prefers_flights\",\"prefers_hotels\",\"prefers_both\",\"discount_responsiveness\",\"flight_discount_proportion\",\"average_flight_discount\",\"hotel_discount_proportion\",\"average_hotel_discount\",\"both_discount_proportion\",\"flight_hunter_index\",\"hotel_hunter_index\",\"total_hotel_usd_spent\",\"total_flight_usd_spent\"],\"y\":[\"age\",\"total_cancellation_rate\",\"average_checked_bags\",\"conversion_rate\",\"prefers_flights\",\"prefers_hotels\",\"prefers_both\",\"discount_responsiveness\",\"flight_discount_proportion\",\"average_flight_discount\",\"hotel_discount_proportion\",\"average_hotel_discount\",\"both_discount_proportion\",\"flight_hunter_index\",\"hotel_hunter_index\",\"total_hotel_usd_spent\",\"total_flight_usd_spent\"],\"z\":[[1.0,-0.05687333361893,0.05588123218552162,0.12048131508286872,0.005881108053511263,-0.04879206549576161,0.08295802905393783,-0.007405919377387382,0.01025438935087737,0.0033909402687397248,0.0014684611108921998,0.0002809799591226128,-0.009366034889309496,-0.024883823455079463,-0.008158486433234767,0.08175275446753136,0.06511694243931018],[-0.05687333361893,1.0,0.16209869837083926,0.13528951387926938,0.10308843729516895,-0.08864281229747792,0.07577917765662713,-0.01637447308346885,-0.020546959539071187,-0.014454623355352062,-0.016604213198675583,-0.009597137976285365,-0.018069884322110964,-0.009523820443256274,-0.02656243334788062,-0.060409862173709535,0.21185636740356203],[0.05588123218552162,0.16209869837083926,1.0,0.21536827537012992,0.11755356216793854,-0.14969469588000836,0.25986486659111335,0.016382595705794485,-0.007670637155445628,-0.011490045177265824,0.010436205965641942,0.019427532386586063,-0.0007084672671651935,-0.0035403463498964896,0.04305431524064594,0.12835312684548641,0.32501478770237147],[0.12048131508286872,0.13528951387926938,0.21536827537012992,1.0,0.07805654712966818,-0.10213565097023884,0.4027356324926604,0.01674246801921715,-0.0258390028893413,-0.005833306435032102,0.021361240372309485,-0.0004930370411121136,-0.025529207651167465,-0.0027519136569044878,0.09107232346945363,0.6390569541825785,0.4736876441565531],[0.005881108053511263,0.10308843729516895,0.11755356216793854,0.07805654712966818,1.0,-0.14242992254146652,-0.3286653923232864,0.3041361255260708,0.00509593520339926,0.017177774597406145,0.011221959439490304,0.019742038327306727,-0.011777053141393136,0.035507756322520276,-0.005550064012184054,-0.1720288690038599,0.16525228452805946],[-0.04879206549576161,-0.08864281229747792,-0.14969469588000836,-0.10213565097023884,-0.14242992254146652,1.0,-0.5707622276308626,0.3060459991455382,0.005184863529001787,0.016604446427981596,0.021910847530743,0.02158174736091848,0.02598692620530121,0.00990150056424308,0.05172534803038197,-0.02233727838050997,-0.23200458983872796],[0.08295802905393783,0.07577917765662713,0.25986486659111335,0.4027356324926604,-0.3286653923232864,-0.5707622276308626,1.0,-0.25294550542772154,0.004018043834700314,-0.013207863698632727,-0.0185783825517464,-0.015407301523773599,-0.012806533484933727,-0.0009889680209857034,0.0689200085055226,0.3493695873509288,0.2627409891467847],[-0.007405919377387382,-0.01637447308346885,0.016382595705794485,0.01674246801921715,0.3041361255260708,0.3060459991455382,-0.25294550542772154,1.0,0.09666304731101098,0.1511508758696867,0.21437424755203546,0.2628522787716906,0.5142511119014219,0.07064709372139091,0.12299340880733654,-0.11920554285660898,-0.05664964278342805],[0.01025438935087737,-0.020546959539071187,-0.007670637155445628,-0.0258390028893413,0.00509593520339926,0.005184863529001787,0.004018043834700314,0.09666304731101098,1.0,0.4048471223914013,-0.1515196299836801,-0.08972749357144431,-0.06632466623760896,0.17773825939538376,-0.0668142798005958,0.02631902706095944,-0.10720561807173283],[0.0033909402687397248,-0.014454623355352062,-0.011490045177265824,-0.005833306435032102,0.017177774597406145,0.016604446427981596,-0.013207863698632727,0.1511508758696867,0.4048471223914013,1.0,-0.08695678516712572,0.010601999502214826,0.17413118282692547,0.122629864995344,-0.04665471626336909,0.0052692810272964566,-0.055792414414732275],[0.0014684611108921998,-0.016604213198675583,0.010436205965641942,0.021361240372309485,0.011221959439490304,0.021910847530743,-0.0185783825517464,0.21437424755203546,-0.1515196299836801,-0.08695678516712572,1.0,0.5124569174316501,-0.06373813781825964,-0.039125582659556575,0.5008691364075983,-0.13120546535099675,0.031408731361393286],[0.0002809799591226128,-0.009597137976285365,0.019427532386586063,-0.0004930370411121136,0.019742038327306727,0.02158174736091848,-0.015407301523773599,0.2628522787716906,-0.08972749357144431,0.010601999502214826,0.5124569174316501,1.0,0.24112613432121066,-0.0264388711837814,0.4885450990641901,-0.0737178461665942,0.012269840426391577],[-0.009366034889309496,-0.018069884322110964,-0.0007084672671651935,-0.025529207651167465,-0.011777053141393136,0.02598692620530121,-0.012806533484933727,0.5142511119014219,-0.06632466623760896,0.17413118282692547,-0.06373813781825964,0.24112613432121066,1.0,-0.003174638840178818,-0.06680818823163233,-0.07281825361531218,-0.058088498517329515],[-0.024883823455079463,-0.009523820443256274,-0.0035403463498964896,-0.0027519136569044878,0.035507756322520276,0.00990150056424308,-0.0009889680209857034,0.07064709372139091,0.17773825939538376,0.122629864995344,-0.039125582659556575,-0.0264388711837814,-0.003174638840178818,1.0,-0.015683018716471396,-0.006918306547733952,-0.04565063001908198],[-0.008158486433234767,-0.02656243334788062,0.04305431524064594,0.09107232346945363,-0.005550064012184054,0.05172534803038197,0.0689200085055226,0.12299340880733654,-0.0668142798005958,-0.04665471626336909,0.5008691364075983,0.4885450990641901,-0.06680818823163233,-0.015683018716471396,1.0,0.2285157316783714,0.06441322825048276],[0.08175275446753136,-0.060409862173709535,0.12835312684548641,0.6390569541825785,-0.1720288690038599,-0.02233727838050997,0.3493695873509288,-0.11920554285660898,0.02631902706095944,0.0052692810272964566,-0.13120546535099675,-0.0737178461665942,-0.07281825361531218,-0.006918306547733952,0.2285157316783714,1.0,0.3188262532446781],[0.06511694243931018,0.21185636740356203,0.32501478770237147,0.4736876441565531,0.16525228452805946,-0.23200458983872796,0.2627409891467847,-0.05664964278342805,-0.10720561807173283,-0.055792414414732275,0.031408731361393286,0.012269840426391577,-0.058088498517329515,-0.04565063001908198,0.06441322825048276,0.3188262532446781,1.0]],\"type\":\"heatmap\",\"xaxis\":\"x\",\"yaxis\":\"y\",\"hovertemplate\":\"x: %{x}\\u003cbr\\u003ey: %{y}\\u003cbr\\u003ecolor: %{z}\\u003cextra\\u003e\\u003c\\u002fextra\\u003e\"}],                        {\"template\":{\"data\":{\"histogram2dcontour\":[{\"type\":\"histogram2dcontour\",\"colorbar\":{\"outlinewidth\":0,\"ticks\":\"\"},\"colorscale\":[[0.0,\"#0d0887\"],[0.1111111111111111,\"#46039f\"],[0.2222222222222222,\"#7201a8\"],[0.3333333333333333,\"#9c179e\"],[0.4444444444444444,\"#bd3786\"],[0.5555555555555556,\"#d8576b\"],[0.6666666666666666,\"#ed7953\"],[0.7777777777777778,\"#fb9f3a\"],[0.8888888888888888,\"#fdca26\"],[1.0,\"#f0f921\"]]}],\"choropleth\":[{\"type\":\"choropleth\",\"colorbar\":{\"outlinewidth\":0,\"ticks\":\"\"}}],\"histogram2d\":[{\"type\":\"histogram2d\",\"colorbar\":{\"outlinewidth\":0,\"ticks\":\"\"},\"colorscale\":[[0.0,\"#0d0887\"],[0.1111111111111111,\"#46039f\"],[0.2222222222222222,\"#7201a8\"],[0.3333333333333333,\"#9c179e\"],[0.4444444444444444,\"#bd3786\"],[0.5555555555555556,\"#d8576b\"],[0.6666666666666666,\"#ed7953\"],[0.7777777777777778,\"#fb9f3a\"],[0.8888888888888888,\"#fdca26\"],[1.0,\"#f0f921\"]]}],\"heatmap\":[{\"type\":\"heatmap\",\"colorbar\":{\"outlinewidth\":0,\"ticks\":\"\"},\"colorscale\":[[0.0,\"#0d0887\"],[0.1111111111111111,\"#46039f\"],[0.2222222222222222,\"#7201a8\"],[0.3333333333333333,\"#9c179e\"],[0.4444444444444444,\"#bd3786\"],[0.5555555555555556,\"#d8576b\"],[0.6666666666666666,\"#ed7953\"],[0.7777777777777778,\"#fb9f3a\"],[0.8888888888888888,\"#fdca26\"],[1.0,\"#f0f921\"]]}],\"heatmapgl\":[{\"type\":\"heatmapgl\",\"colorbar\":{\"outlinewidth\":0,\"ticks\":\"\"},\"colorscale\":[[0.0,\"#0d0887\"],[0.1111111111111111,\"#46039f\"],[0.2222222222222222,\"#7201a8\"],[0.3333333333333333,\"#9c179e\"],[0.4444444444444444,\"#bd3786\"],[0.5555555555555556,\"#d8576b\"],[0.6666666666666666,\"#ed7953\"],[0.7777777777777778,\"#fb9f3a\"],[0.8888888888888888,\"#fdca26\"],[1.0,\"#f0f921\"]]}],\"contourcarpet\":[{\"type\":\"contourcarpet\",\"colorbar\":{\"outlinewidth\":0,\"ticks\":\"\"}}],\"contour\":[{\"type\":\"contour\",\"colorbar\":{\"outlinewidth\":0,\"ticks\":\"\"},\"colorscale\":[[0.0,\"#0d0887\"],[0.1111111111111111,\"#46039f\"],[0.2222222222222222,\"#7201a8\"],[0.3333333333333333,\"#9c179e\"],[0.4444444444444444,\"#bd3786\"],[0.5555555555555556,\"#d8576b\"],[0.6666666666666666,\"#ed7953\"],[0.7777777777777778,\"#fb9f3a\"],[0.8888888888888888,\"#fdca26\"],[1.0,\"#f0f921\"]]}],\"surface\":[{\"type\":\"surface\",\"colorbar\":{\"outlinewidth\":0,\"ticks\":\"\"},\"colorscale\":[[0.0,\"#0d0887\"],[0.1111111111111111,\"#46039f\"],[0.2222222222222222,\"#7201a8\"],[0.3333333333333333,\"#9c179e\"],[0.4444444444444444,\"#bd3786\"],[0.5555555555555556,\"#d8576b\"],[0.6666666666666666,\"#ed7953\"],[0.7777777777777778,\"#fb9f3a\"],[0.8888888888888888,\"#fdca26\"],[1.0,\"#f0f921\"]]}],\"mesh3d\":[{\"type\":\"mesh3d\",\"colorbar\":{\"outlinewidth\":0,\"ticks\":\"\"}}],\"scatter\":[{\"fillpattern\":{\"fillmode\":\"overlay\",\"size\":10,\"solidity\":0.2},\"type\":\"scatter\"}],\"parcoords\":[{\"type\":\"parcoords\",\"line\":{\"colorbar\":{\"outlinewidth\":0,\"ticks\":\"\"}}}],\"scatterpolargl\":[{\"type\":\"scatterpolargl\",\"marker\":{\"colorbar\":{\"outlinewidth\":0,\"ticks\":\"\"}}}],\"bar\":[{\"error_x\":{\"color\":\"#2a3f5f\"},\"error_y\":{\"color\":\"#2a3f5f\"},\"marker\":{\"line\":{\"color\":\"#E5ECF6\",\"width\":0.5},\"pattern\":{\"fillmode\":\"overlay\",\"size\":10,\"solidity\":0.2}},\"type\":\"bar\"}],\"scattergeo\":[{\"type\":\"scattergeo\",\"marker\":{\"colorbar\":{\"outlinewidth\":0,\"ticks\":\"\"}}}],\"scatterpolar\":[{\"type\":\"scatterpolar\",\"marker\":{\"colorbar\":{\"outlinewidth\":0,\"ticks\":\"\"}}}],\"histogram\":[{\"marker\":{\"pattern\":{\"fillmode\":\"overlay\",\"size\":10,\"solidity\":0.2}},\"type\":\"histogram\"}],\"scattergl\":[{\"type\":\"scattergl\",\"marker\":{\"colorbar\":{\"outlinewidth\":0,\"ticks\":\"\"}}}],\"scatter3d\":[{\"type\":\"scatter3d\",\"line\":{\"colorbar\":{\"outlinewidth\":0,\"ticks\":\"\"}},\"marker\":{\"colorbar\":{\"outlinewidth\":0,\"ticks\":\"\"}}}],\"scattermapbox\":[{\"type\":\"scattermapbox\",\"marker\":{\"colorbar\":{\"outlinewidth\":0,\"ticks\":\"\"}}}],\"scatterternary\":[{\"type\":\"scatterternary\",\"marker\":{\"colorbar\":{\"outlinewidth\":0,\"ticks\":\"\"}}}],\"scattercarpet\":[{\"type\":\"scattercarpet\",\"marker\":{\"colorbar\":{\"outlinewidth\":0,\"ticks\":\"\"}}}],\"carpet\":[{\"aaxis\":{\"endlinecolor\":\"#2a3f5f\",\"gridcolor\":\"white\",\"linecolor\":\"white\",\"minorgridcolor\":\"white\",\"startlinecolor\":\"#2a3f5f\"},\"baxis\":{\"endlinecolor\":\"#2a3f5f\",\"gridcolor\":\"white\",\"linecolor\":\"white\",\"minorgridcolor\":\"white\",\"startlinecolor\":\"#2a3f5f\"},\"type\":\"carpet\"}],\"table\":[{\"cells\":{\"fill\":{\"color\":\"#EBF0F8\"},\"line\":{\"color\":\"white\"}},\"header\":{\"fill\":{\"color\":\"#C8D4E3\"},\"line\":{\"color\":\"white\"}},\"type\":\"table\"}],\"barpolar\":[{\"marker\":{\"line\":{\"color\":\"#E5ECF6\",\"width\":0.5},\"pattern\":{\"fillmode\":\"overlay\",\"size\":10,\"solidity\":0.2}},\"type\":\"barpolar\"}],\"pie\":[{\"automargin\":true,\"type\":\"pie\"}]},\"layout\":{\"autotypenumbers\":\"strict\",\"colorway\":[\"#636efa\",\"#EF553B\",\"#00cc96\",\"#ab63fa\",\"#FFA15A\",\"#19d3f3\",\"#FF6692\",\"#B6E880\",\"#FF97FF\",\"#FECB52\"],\"font\":{\"color\":\"#2a3f5f\"},\"hovermode\":\"closest\",\"hoverlabel\":{\"align\":\"left\"},\"paper_bgcolor\":\"white\",\"plot_bgcolor\":\"#E5ECF6\",\"polar\":{\"bgcolor\":\"#E5ECF6\",\"angularaxis\":{\"gridcolor\":\"white\",\"linecolor\":\"white\",\"ticks\":\"\"},\"radialaxis\":{\"gridcolor\":\"white\",\"linecolor\":\"white\",\"ticks\":\"\"}},\"ternary\":{\"bgcolor\":\"#E5ECF6\",\"aaxis\":{\"gridcolor\":\"white\",\"linecolor\":\"white\",\"ticks\":\"\"},\"baxis\":{\"gridcolor\":\"white\",\"linecolor\":\"white\",\"ticks\":\"\"},\"caxis\":{\"gridcolor\":\"white\",\"linecolor\":\"white\",\"ticks\":\"\"}},\"coloraxis\":{\"colorbar\":{\"outlinewidth\":0,\"ticks\":\"\"}},\"colorscale\":{\"sequential\":[[0.0,\"#0d0887\"],[0.1111111111111111,\"#46039f\"],[0.2222222222222222,\"#7201a8\"],[0.3333333333333333,\"#9c179e\"],[0.4444444444444444,\"#bd3786\"],[0.5555555555555556,\"#d8576b\"],[0.6666666666666666,\"#ed7953\"],[0.7777777777777778,\"#fb9f3a\"],[0.8888888888888888,\"#fdca26\"],[1.0,\"#f0f921\"]],\"sequentialminus\":[[0.0,\"#0d0887\"],[0.1111111111111111,\"#46039f\"],[0.2222222222222222,\"#7201a8\"],[0.3333333333333333,\"#9c179e\"],[0.4444444444444444,\"#bd3786\"],[0.5555555555555556,\"#d8576b\"],[0.6666666666666666,\"#ed7953\"],[0.7777777777777778,\"#fb9f3a\"],[0.8888888888888888,\"#fdca26\"],[1.0,\"#f0f921\"]],\"diverging\":[[0,\"#8e0152\"],[0.1,\"#c51b7d\"],[0.2,\"#de77ae\"],[0.3,\"#f1b6da\"],[0.4,\"#fde0ef\"],[0.5,\"#f7f7f7\"],[0.6,\"#e6f5d0\"],[0.7,\"#b8e186\"],[0.8,\"#7fbc41\"],[0.9,\"#4d9221\"],[1,\"#276419\"]]},\"xaxis\":{\"gridcolor\":\"white\",\"linecolor\":\"white\",\"ticks\":\"\",\"title\":{\"standoff\":15},\"zerolinecolor\":\"white\",\"automargin\":true,\"zerolinewidth\":2},\"yaxis\":{\"gridcolor\":\"white\",\"linecolor\":\"white\",\"ticks\":\"\",\"title\":{\"standoff\":15},\"zerolinecolor\":\"white\",\"automargin\":true,\"zerolinewidth\":2},\"scene\":{\"xaxis\":{\"backgroundcolor\":\"#E5ECF6\",\"gridcolor\":\"white\",\"linecolor\":\"white\",\"showbackground\":true,\"ticks\":\"\",\"zerolinecolor\":\"white\",\"gridwidth\":2},\"yaxis\":{\"backgroundcolor\":\"#E5ECF6\",\"gridcolor\":\"white\",\"linecolor\":\"white\",\"showbackground\":true,\"ticks\":\"\",\"zerolinecolor\":\"white\",\"gridwidth\":2},\"zaxis\":{\"backgroundcolor\":\"#E5ECF6\",\"gridcolor\":\"white\",\"linecolor\":\"white\",\"showbackground\":true,\"ticks\":\"\",\"zerolinecolor\":\"white\",\"gridwidth\":2}},\"shapedefaults\":{\"line\":{\"color\":\"#2a3f5f\"}},\"annotationdefaults\":{\"arrowcolor\":\"#2a3f5f\",\"arrowhead\":0,\"arrowwidth\":1},\"geo\":{\"bgcolor\":\"white\",\"landcolor\":\"#E5ECF6\",\"subunitcolor\":\"white\",\"showland\":true,\"showlakes\":true,\"lakecolor\":\"white\"},\"title\":{\"x\":0.05},\"mapbox\":{\"style\":\"light\"}}},\"xaxis\":{\"anchor\":\"y\",\"domain\":[0.0,1.0],\"tickangle\":45,\"tickmode\":\"array\"},\"yaxis\":{\"anchor\":\"x\",\"domain\":[0.0,1.0],\"autorange\":\"reversed\"},\"coloraxis\":{\"colorscale\":[[0.0,\"rgb(5,48,97)\"],[0.1,\"rgb(33,102,172)\"],[0.2,\"rgb(67,147,195)\"],[0.3,\"rgb(146,197,222)\"],[0.4,\"rgb(209,229,240)\"],[0.5,\"rgb(247,247,247)\"],[0.6,\"rgb(253,219,199)\"],[0.7,\"rgb(244,165,130)\"],[0.8,\"rgb(214,96,77)\"],[0.9,\"rgb(178,24,43)\"],[1.0,\"rgb(103,0,31)\"]]},\"title\":{\"text\":\"Correlation Matrix of Metrics\"},\"width\":1000,\"height\":800},                        {\"responsive\": true}                    ).then(function(){\n",
       "                            \n",
       "var gd = document.getElementById('7e4bf08b-201d-49c3-b31b-803b9636b889');\n",
       "var x = new MutationObserver(function (mutations, observer) {{\n",
       "        var display = window.getComputedStyle(gd).display;\n",
       "        if (!display || display === 'none') {{\n",
       "            console.log([gd, 'removed!']);\n",
       "            Plotly.purge(gd);\n",
       "            observer.disconnect();\n",
       "        }}\n",
       "}});\n",
       "\n",
       "// Listen for the removal of the full notebook cells\n",
       "var notebookContainer = gd.closest('#notebook-container');\n",
       "if (notebookContainer) {{\n",
       "    x.observe(notebookContainer, {childList: true});\n",
       "}}\n",
       "\n",
       "// Listen for the clearing of the current output cell\n",
       "var outputEl = gd.closest('.output');\n",
       "if (outputEl) {{\n",
       "    x.observe(outputEl, {childList: true});\n",
       "}}\n",
       "\n",
       "                        })                };                });            </script>        </div>"
      ]
     },
     "metadata": {},
     "output_type": "display_data"
    },
    {
     "name": "stdout",
     "output_type": "stream",
     "text": [
      "zsh:1: bad pattern: [Correlation\n",
      "Highly correlated pairs: \n",
      "Series([], dtype: float64)\n",
      "\n",
      " Now we can remove the highly correlated values, if any.\n",
      "\n",
      "By removing highly correlated features, we can create a more efficient, interpretable, and reliable model. The goal is to retain only those features that provide unique and valuable information, leading to better performance and easier interpretation of the model.\n"
     ]
    }
   ],
   "source": [
    "\n",
    "\n",
    "\n",
    "correlation_matrix = df[[  'age','total_cancellation_rate', 'average_checked_bags', 'conversion_rate',\n",
    "                     'prefers_flights', 'prefers_hotels', 'prefers_both',  \n",
    "                     'discount_responsiveness', 'flight_discount_proportion','average_flight_discount',\n",
    "                     'hotel_discount_proportion', 'average_hotel_discount', 'both_discount_proportion',\n",
    "                     'flight_hunter_index', 'hotel_hunter_index', \n",
    "                     'total_hotel_usd_spent', 'total_flight_usd_spent'\n",
    "                          ]].corr()\n",
    "\n",
    "# Generate a heatmap for better visual inspection of the correlation matrix\n",
    "fig = px.imshow(\n",
    "    correlation_matrix,\n",
    "    text_auto=\".2f\",\n",
    "    color_continuous_scale='RdBu_r',  # Similar to 'coolwarm'\n",
    "    title='Correlation Matrix of Metrics',\n",
    "    aspect='auto',  # Adjust the aspect ratio\n",
    ")\n",
    "\n",
    "# Update layout for better appearance\n",
    "fig.update_layout(\n",
    "    width=1000,  # Adjust width\n",
    "    height=800,  # Adjust height\n",
    "    xaxis=dict(tickangle=45, tickmode='array'),\n",
    ")\n",
    "# Save the heatmap to a file for future reference or sharing\n",
    "file_path = os.path.join(img_dir_path, 'CorrelationVerification.png')\n",
    "\n",
    "# Create the directory if it does not exist\n",
    "if not os.path.exists(img_dir_path):\n",
    "    os.makedirs(img_dir_path)\n",
    "\n",
    "pio.write_image(fig, file_path, scale=1, width=1654, height=1174)\n",
    "\n",
    "# Display the heatmap\n",
    "fig.show()\n",
    "\n",
    "# Initialize set to hold pairs to be dropped (upper triangle of the matrix)\n",
    "pairs_to_drop = set()\n",
    "cols = correlation_matrix.columns\n",
    "for i in range(0, correlation_matrix.shape[1]):\n",
    "    for j in range(0, i+1):\n",
    "        pairs_to_drop.add((cols[i], cols[j]))\n",
    "\n",
    "# Unstack the correlation matrix and sort by absolute value\n",
    "corr_abs_unstacked = correlation_matrix.abs().unstack()\n",
    "\n",
    "# Drop pairs to get unique (i, j) correlations (avoid redundancy)\n",
    "corr_abs_unstacked = corr_abs_unstacked.drop(labels=pairs_to_drop).sort_values(ascending=False)\n",
    "\n",
    "# Extract highly correlated pairs (absolute value greater than 0.8)\n",
    "high_corr = corr_abs_unstacked[corr_abs_unstacked > 0.8]\n",
    "\n",
    "# for Git Static image\n",
    "![Correlation Matrix Heatmap](Images/CorrelationVerification.png)\n",
    "\n",
    "# Display pairs of highly correlated features\n",
    "print(\"Highly correlated pairs: \")\n",
    "print(high_corr)\n",
    "# Note that features with high correlation may need to be treated carefully during modeling\n",
    "print(\"\\n Now we can remove the highly correlated values, if any.\")\n",
    "print(\"\\nBy removing highly correlated features, we can create a more efficient, interpretable, and reliable model. The goal is to retain only those features that provide unique and valuable information, leading to better performance and easier interpretation of the model.\")"
   ]
  },
  {
   "cell_type": "markdown",
   "id": "1ee5cc69-5770-4009-a634-e7d77f13f0f2",
   "metadata": {},
   "source": [
    "### Cluster Lables\n",
    "#### Cluster 0: \"Free Hotel Meal Seekers\"\n",
    "- Strong Preference for Hotels: prefers_hotels_scaled is high.\n",
    "- Lower Spending on Flights: Both total_flight_usd_spent_scaled and flight_discount_proportion_scaled are low.\n",
    "- Discount Responsiveness: discount_responsiveness_scaled is slightly positive.\n",
    "  Cluster 0 corresponds to \"Free Hotel Meal Seekers\" due to its strong preference for hotels and relatively low interest in flights.\n",
    "\n",
    "#### Cluster 1: \"Free Checked Bag Seekers\"\n",
    "- Checked Bags: average_checked_bags_scaled is slightly positive.\n",
    "- Moderate Spending: total_hotel_usd_spent_scaled and total_flight_usd_spent_scaled are slightly positive.\n",
    "- Hotel Discounts: hotel_discount_proportion_scaled and average_hotel_discount_scaled are high.\n",
    " Cluster 1 corresponds to \"Free Checked Bag Seekers,\" as this group shows interest in checked bags and hotel discounts.\n",
    "\n",
    "#### Cluster 2: \"Exclusive Discounts Seekers\"\n",
    "- High Flight Discount Proportion: flight_discount_proportion_scaled is positive.\n",
    "- Negative Hotel Discount Indicators: hotel_discount_proportion_scaled and average_hotel_discount_scaled are negative.\n",
    "- Strong Discount Responsiveness: discount_responsiveness_scaled is quite negative, indicating a focus on finding discounts.\n",
    " Cluster 2 corresponds to \"Exclusive Discounts Seekers,\" as they seem highly focused on discounts.\n",
    "\n",
    "#### Cluster 3: \"No Cancellation Fee Seekers\"\n",
    "- High Cancellation Rate: total_cancellation_rate_scaled is high.\n",
    "- Strong Preference for Flights: prefers_flights_scaled is very high.\n",
    "- Moderate Discount Responsiveness: discount_responsiveness_scaled is positive.\n",
    " Cluster 3 corresponds to \"No Cancellation Fee Seekers,\" as they likely want flexibility with their bookings.\n",
    "\n",
    "#### Cluster 4: \"1 Night Free Hotel with Flight Seekers\"\n",
    "- Both Discounts are Significant: both_discount_proportion_scaled is very high.\n",
    "- Discount Responsiveness: discount_responsiveness_scaled is the highest among all clusters.\n",
    "- Preference for Combined Offers: Both prefers_both_scaled and average_hotel_discount_scaled are positive.\n",
    " Cluster 4 corresponds to \"1 Night Free Hotel with Flight Seekers,\" as they seem to focus on both flight and hotel discounts together."
   ]
  },
  {
   "cell_type": "code",
   "execution_count": null,
   "id": "1d0395ea-9f64-4060-b0eb-cb26094f1d7e",
   "metadata": {},
   "outputs": [],
   "source": [
    "# Define the cluster labels\n",
    "cluster_labels = {\n",
    "    0: \"Free Hotel Meal Seekers\",\n",
    "    1: \"Free Checked Bag Seekers\",\n",
    "    2: \"Exclusive Discounts Seekers\",\n",
    "    3: \"No Cancellation Fee Seekers\",\n",
    "    4: \"1 Night Free Hotel with Flight Seekers\"\n",
    "}\n",
    "\n",
    "# Add the cluster labels to the DataFrame\n",
    "df['cluster_label'] = df['cluster'].map(cluster_labels)\n",
    "\n",
    "df.head()"
   ]
  },
  {
   "cell_type": "code",
   "execution_count": null,
   "id": "d7e7bf30-9be6-499d-8f0a-53d7218e4c93",
   "metadata": {},
   "outputs": [],
   "source": [
    "cluster_counts = df['cluster_label'].value_counts()\n",
    "\n",
    "print(cluster_counts)"
   ]
  },
  {
   "cell_type": "code",
   "execution_count": null,
   "id": "6010268e-a10f-450b-9fb1-6a44ca01b8e5",
   "metadata": {},
   "outputs": [],
   "source": []
  },
  {
   "cell_type": "code",
   "execution_count": null,
   "id": "3d28add4-05b9-4521-a2b1-3114c8b68bfd",
   "metadata": {},
   "outputs": [],
   "source": []
  },
  {
   "cell_type": "code",
   "execution_count": null,
   "id": "404783c9-857f-44dd-9a00-156b29221bf0",
   "metadata": {},
   "outputs": [],
   "source": []
  },
  {
   "cell_type": "code",
   "execution_count": null,
   "id": "7fdcd83a-e360-44a8-89f5-f142baf73692",
   "metadata": {},
   "outputs": [],
   "source": []
  }
 ],
 "metadata": {
  "kernelspec": {
   "display_name": "Python 3 (ipykernel)",
   "language": "python",
   "name": "python3"
  },
  "language_info": {
   "codemirror_mode": {
    "name": "ipython",
    "version": 3
   },
   "file_extension": ".py",
   "mimetype": "text/x-python",
   "name": "python",
   "nbconvert_exporter": "python",
   "pygments_lexer": "ipython3",
   "version": "3.12.0"
  }
 },
 "nbformat": 4,
 "nbformat_minor": 5
}
